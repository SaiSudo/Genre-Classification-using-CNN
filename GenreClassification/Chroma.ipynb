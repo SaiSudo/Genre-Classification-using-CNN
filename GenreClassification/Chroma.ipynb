{
 "cells": [
  {
   "cell_type": "markdown",
   "metadata": {},
   "source": [
    "# Classification of music Genre on GTZAN dataset using CNN\n",
    "\n",
    "## Here I have used chroma as feature extraction technique"
   ]
  },
  {
   "cell_type": "code",
   "execution_count": 1,
   "metadata": {},
   "outputs": [],
   "source": [
    "import os\n",
    "import h5py\n",
    "import librosa\n",
    "import itertools\n",
    "from copy import copy\n",
    "import numpy as np\n",
    "import matplotlib.pyplot as plt\n",
    "from collections import OrderedDict\n",
    "from sklearn.model_selection import train_test_split\n",
    "from sklearn.metrics import confusion_matrix\n",
    "import tensorflow as tf\n",
    "from tensorflow.keras.utils import to_categorical\n",
    "from tensorflow.keras.models import Model\n",
    "from tensorflow.keras.layers import Input\n",
    "from tensorflow.keras.models import Sequential\n",
    "from tensorflow.keras.layers import Add\n",
    "from tensorflow.keras.layers import Dense\n",
    "from tensorflow.keras.layers import Activation\n",
    "from tensorflow.keras.layers import PReLU\n",
    "from tensorflow.keras.layers import Conv2D\n",
    "from tensorflow.keras.layers import MaxPooling2D\n",
    "from tensorflow.keras.layers import AveragePooling2D\n",
    "from tensorflow.keras.layers import GlobalAveragePooling2D\n",
    "from tensorflow.keras.layers import GlobalMaxPooling2D\n",
    "from tensorflow.keras.layers import Dropout\n",
    "from tensorflow.keras.layers import Flatten\n",
    "from tensorflow.keras.layers import BatchNormalization\n",
    "from tensorflow.keras.callbacks import ReduceLROnPlateau\n"
   ]
  },
  {
   "cell_type": "code",
   "execution_count": 2,
   "metadata": {},
   "outputs": [],
   "source": [
    "# For reproducibility purposes\n",
    "np.random.seed(42)"
   ]
  },
  {
   "cell_type": "code",
   "execution_count": 3,
   "metadata": {},
   "outputs": [],
   "source": [
    "\"\"\"\n",
    "@description: Method to split a song into multiple songs using overlapping windows\n",
    "\"\"\"\n",
    "def splitsongs(X, y, window = 0.05, overlap = 0.5):\n",
    "    # Empty lists to hold our results\n",
    "    temp_X = []\n",
    "    temp_y = []\n",
    "\n",
    "    # Get the input song array size\n",
    "    xshape = X.shape[0]\n",
    "    chunk = int(xshape*window)\n",
    "    offset = int(chunk*(1.-overlap))\n",
    "    \n",
    "    # Split the song and create new ones on windows\n",
    "    spsong = [X[i:i+chunk] for i in range(0, xshape - chunk + offset, offset)]\n",
    "    for s in spsong:\n",
    "        if s.shape[0] != chunk:\n",
    "            continue\n",
    "\n",
    "        temp_X.append(s)\n",
    "        temp_y.append(y)\n",
    "\n",
    "    return np.array(temp_X), np.array(temp_y)"
   ]
  },
  {
   "cell_type": "code",
   "execution_count": 4,
   "metadata": {},
   "outputs": [],
   "source": [
    "\"\"\"\n",
    "@description: Method to convert a list of songs to a np array of Chroma\n",
    "\"\"\"\n",
    "def to_Chroma(songs, n_fft=1024, hop_length=256):\n",
    "    # Transformation function\n",
    "    chromaspec = lambda x: librosa.feature.chroma_stft(x, n_fft=n_fft,\n",
    "        hop_length=hop_length, n_chroma=128)[:,:,np.newaxis]\n",
    "\n",
    "    # map transformation of input songs to melspectrogram using log-scale\n",
    "    tsongs = map(chromaspec, songs)\n",
    "    # np.array([librosa.power_to_db(s, ref=np.max) for s in list(tsongs)])\n",
    "    return np.array(list(tsongs))"
   ]
  },
  {
   "cell_type": "code",
   "execution_count": 5,
   "metadata": {},
   "outputs": [],
   "source": [
    "def split_convert(X, y):\n",
    "    arr_specs, arr_genres = [], []\n",
    "    \n",
    "    # Convert to spectrograms and split into small windows\n",
    "    for fn, genre in zip(X, y):\n",
    "        signal, sr = librosa.load(fn)\n",
    "        signal = signal[:song_samples]\n",
    "\n",
    "        # Convert to dataset of spectograms/melspectograms\n",
    "        signals, y = splitsongs(signal, genre)\n",
    "\n",
    "        # Convert to \"spec\" representation\n",
    "        specs = to_Chroma(signals)\n",
    "\n",
    "        # Save files\n",
    "        arr_genres.extend(y)\n",
    "        arr_specs.extend(specs)\n",
    "    \n",
    "    return np.array(arr_specs), to_categorical(arr_genres)\n"
   ]
  },
  {
   "cell_type": "code",
   "execution_count": 7,
   "metadata": {},
   "outputs": [],
   "source": [
    "def read_data(src_dir, genres, song_samples):    \n",
    "    # Empty array of dicts with the processed features from all files\n",
    "    arr_fn = []\n",
    "    arr_genres = []\n",
    "\n",
    "    # Get file list from the folders\n",
    "    for x,_ in genres.items():\n",
    "        folder = src_dir + x\n",
    "        for root, subdirs, files in os.walk(folder):\n",
    "            for file in files:\n",
    "                file_name = folder + \"/\" + file\n",
    "\n",
    "                # Save the file name and the genre\n",
    "                arr_fn.append(file_name)\n",
    "                arr_genres.append(genres[x])\n",
    "    \n",
    "    # Split into train and test\n",
    "    X_train, X_test, y_train, y_test = train_test_split(\n",
    "        arr_fn, arr_genres, test_size=0.3, random_state=42, stratify=arr_genres\n",
    "    )\n",
    "    \n",
    "    # Split into small segments and convert to spectrogram\n",
    "    X_train, y_train = split_convert(X_train, y_train)\n",
    "    X_test, y_test = split_convert(X_test, y_test)\n",
    "\n",
    "    return X_train, X_test, y_train, y_test"
   ]
  },
  {
   "cell_type": "code",
   "execution_count": 8,
   "metadata": {},
   "outputs": [
    {
     "name": "stderr",
     "output_type": "stream",
     "text": [
      "/usr/lib/python3.8/site-packages/librosa/core/pitch.py:146: UserWarning: Trying to estimate tuning from empty frequency set.\n",
      "  warnings.warn('Trying to estimate tuning from empty frequency set.')\n"
     ]
    }
   ],
   "source": [
    "#Parameters\n",
    "gtzan_dir = './genres/'\n",
    "song_samples = 660000\n",
    "genres = {'metal': 0, 'disco': 1, 'classical': 2, 'hiphop': 3, 'jazz': 4, \n",
    "          'country': 5, 'pop': 6, 'blues': 7, 'reggae': 8, 'rock': 9}\n",
    "\n",
    "# Read the data\n",
    "X_train, X_test, y_train, y_test = read_data(gtzan_dir, genres, song_samples)\n"
   ]
  },
  {
   "cell_type": "code",
   "execution_count": 9,
   "metadata": {},
   "outputs": [
    {
     "name": "stdout",
     "output_type": "stream",
     "text": [
      "(27300, 128, 129, 1) (11700, 128, 129, 1) (27300, 10) (11700, 10)\n"
     ]
    }
   ],
   "source": [
    "print(X_train.shape, X_test.shape, y_train.shape, y_test.shape)"
   ]
  },
  {
   "cell_type": "code",
   "execution_count": 10,
   "metadata": {},
   "outputs": [
    {
     "data": {
      "image/png": "[encoded data removed]",
      "text/plain": [
       "<Figure size 432x288 with 1 Axes>"
      ]
     },
     "metadata": {
      "needs_background": "light"
     },
     "output_type": "display_data"
    }
   ],
   "source": [
    "# Histogram for train and test \n",
    "values, count = np.unique(np.argmax(y_train, axis=1), return_counts=True)\n",
    "plt.bar(values, count)\n",
    "\n",
    "values, count = np.unique(np.argmax(y_test, axis=1), return_counts=True)\n",
    "plt.bar(values, count)\n",
    "plt.show()\n",
    "\n"
   ]
  },
  {
   "cell_type": "markdown",
   "metadata": {},
   "source": [
    "## GTZAN Chroma generator"
   ]
  },
  {
   "cell_type": "code",
   "execution_count": 11,
   "metadata": {},
   "outputs": [],
   "source": [
    "from tensorflow.keras.utils import Sequence\n",
    "\n",
    "class GTZANGenerator(Sequence):\n",
    "    def __init__(self, X, y, batch_size=64, is_test = False):\n",
    "        self.X = X\n",
    "        self.y = y\n",
    "        self.batch_size = batch_size\n",
    "        self.is_test = is_test\n",
    "    \n",
    "    def __len__(self):\n",
    "        return int(np.ceil(len(self.X)/self.batch_size))\n",
    "    \n",
    "    def __getitem__(self, index):\n",
    "        # Get batch indexes\n",
    "        signals = self.X[index*self.batch_size:(index+1)*self.batch_size]\n",
    "\n",
    "        # Apply data augmentation\n",
    "        if not self.is_test:\n",
    "            signals = self.__augment(signals)\n",
    "        return signals, self.y[index*self.batch_size:(index+1)*self.batch_size]\n",
    "    \n",
    "    def __augment(self, signals, hor_flip = 0.5, random_cutout = 0.5):\n",
    "        spectrograms =  []\n",
    "        for s in signals:\n",
    "            signal = copy(s)\n",
    "            \n",
    "            # Perform horizontal flip\n",
    "            if np.random.rand() < hor_flip:\n",
    "                signal = np.flip(signal, 1)\n",
    "\n",
    "            # Perform random cutoout of some frequency/time\n",
    "            if np.random.rand() < random_cutout:\n",
    "                lines = np.random.randint(signal.shape[0], size=3)\n",
    "                cols = np.random.randint(signal.shape[0], size=4)\n",
    "                signal[lines, :, :] = -80 # dB\n",
    "                signal[:, cols, :] = -80 # dB\n",
    "\n",
    "            spectrograms.append(signal)\n",
    "        return np.array(spectrograms)\n",
    "    \n",
    "    def on_epoch_end(self):\n",
    "        self.indexes = np.arange(len(self.X))\n",
    "        np.random.shuffle(self.indexes)\n",
    "        return None"
   ]
  },
  {
   "cell_type": "markdown",
   "metadata": {},
   "source": [
    "## Custom CNN (Chroma Version)"
   ]
  },
  {
   "cell_type": "code",
   "execution_count": 12,
   "metadata": {},
   "outputs": [],
   "source": [
    "def conv_block(x, n_filters, pool_size=(2, 2)):\n",
    "    x = Conv2D(n_filters, (3, 3), strides=(1, 1), padding='same')(x)\n",
    "    x = Activation('relu')(x)\n",
    "    x = MaxPooling2D(pool_size=pool_size, strides=pool_size)(x)\n",
    "    x = Dropout(0.25)(x)\n",
    "    return x"
   ]
  },
  {
   "cell_type": "code",
   "execution_count": 13,
   "metadata": {},
   "outputs": [],
   "source": [
    "# Model Definition\n",
    "def create_model(input_shape, num_genres):\n",
    "    inpt = Input(shape=input_shape)\n",
    "    x = conv_block(inpt, 12)\n",
    "    x = conv_block(x, 32)\n",
    "    x = conv_block(x, 64)\n",
    "    x = conv_block(x, 128)\n",
    "    x = conv_block(x, 256)\n",
    "    \n",
    "    # Global Pooling and MLP\n",
    "    x = Flatten()(x)\n",
    "    x = Dropout(0.5)(x)\n",
    "    x = Dense(512, activation='relu', \n",
    "              kernel_regularizer=tf.keras.regularizers.l2(0.02))(x)\n",
    "    x = Dropout(0.25)(x)\n",
    "    predictions = Dense(num_genres, \n",
    "                        activation='softmax', \n",
    "                        kernel_regularizer=tf.keras.regularizers.l2(0.02))(x)\n",
    "    \n",
    "    model = Model(inputs=inpt, outputs=predictions)\n",
    "    return model\n"
   ]
  },
  {
   "cell_type": "code",
   "execution_count": 14,
   "metadata": {},
   "outputs": [],
   "source": [
    "model = create_model(X_train[0].shape, 10)"
   ]
  },
  {
   "cell_type": "code",
   "execution_count": 15,
   "metadata": {},
   "outputs": [
    {
     "name": "stdout",
     "output_type": "stream",
     "text": [
      "Model: \"model\"\n",
      "_________________________________________________________________\n",
      "Layer (type)                 Output Shape              Param #   \n",
      "=================================================================\n",
      "input_1 (InputLayer)         [(None, 128, 129, 1)]     0         \n",
      "_________________________________________________________________\n",
      "conv2d (Conv2D)              (None, 128, 129, 12)      120       \n",
      "_________________________________________________________________\n",
      "activation (Activation)      (None, 128, 129, 12)      0         \n",
      "_________________________________________________________________\n",
      "max_pooling2d (MaxPooling2D) (None, 64, 64, 12)        0         \n",
      "_________________________________________________________________\n",
      "dropout (Dropout)            (None, 64, 64, 12)        0         \n",
      "_________________________________________________________________\n",
      "conv2d_1 (Conv2D)            (None, 64, 64, 32)        3488      \n",
      "_________________________________________________________________\n",
      "activation_1 (Activation)    (None, 64, 64, 32)        0         \n",
      "_________________________________________________________________\n",
      "max_pooling2d_1 (MaxPooling2 (None, 32, 32, 32)        0         \n",
      "_________________________________________________________________\n",
      "dropout_1 (Dropout)          (None, 32, 32, 32)        0         \n",
      "_________________________________________________________________\n",
      "conv2d_2 (Conv2D)            (None, 32, 32, 64)        18496     \n",
      "_________________________________________________________________\n",
      "activation_2 (Activation)    (None, 32, 32, 64)        0         \n",
      "_________________________________________________________________\n",
      "max_pooling2d_2 (MaxPooling2 (None, 16, 16, 64)        0         \n",
      "_________________________________________________________________\n",
      "dropout_2 (Dropout)          (None, 16, 16, 64)        0         \n",
      "_________________________________________________________________\n",
      "conv2d_3 (Conv2D)            (None, 16, 16, 128)       73856     \n",
      "_________________________________________________________________\n",
      "activation_3 (Activation)    (None, 16, 16, 128)       0         \n",
      "_________________________________________________________________\n",
      "max_pooling2d_3 (MaxPooling2 (None, 8, 8, 128)         0         \n",
      "_________________________________________________________________\n",
      "dropout_3 (Dropout)          (None, 8, 8, 128)         0         \n",
      "_________________________________________________________________\n",
      "conv2d_4 (Conv2D)            (None, 8, 8, 256)         295168    \n",
      "_________________________________________________________________\n",
      "activation_4 (Activation)    (None, 8, 8, 256)         0         \n",
      "_________________________________________________________________\n",
      "max_pooling2d_4 (MaxPooling2 (None, 4, 4, 256)         0         \n",
      "_________________________________________________________________\n",
      "dropout_4 (Dropout)          (None, 4, 4, 256)         0         \n",
      "_________________________________________________________________\n",
      "flatten (Flatten)            (None, 4096)              0         \n",
      "_________________________________________________________________\n",
      "dropout_5 (Dropout)          (None, 4096)              0         \n",
      "_________________________________________________________________\n",
      "dense (Dense)                (None, 512)               2097664   \n",
      "_________________________________________________________________\n",
      "dropout_6 (Dropout)          (None, 512)               0         \n",
      "_________________________________________________________________\n",
      "dense_1 (Dense)              (None, 10)                5130      \n",
      "=================================================================\n",
      "Total params: 2,493,922\n",
      "Trainable params: 2,493,922\n",
      "Non-trainable params: 0\n",
      "_________________________________________________________________\n"
     ]
    }
   ],
   "source": [
    "model.summary()"
   ]
  },
  {
   "cell_type": "markdown",
   "metadata": {},
   "source": [
    "## Loss Function"
   ]
  },
  {
   "cell_type": "code",
   "execution_count": 16,
   "metadata": {},
   "outputs": [],
   "source": [
    "model.compile(loss=tf.keras.losses.categorical_crossentropy,\n",
    "              optimizer=tf.keras.optimizers.Adam(),\n",
    "              metrics=['accuracy'])"
   ]
  },
  {
   "cell_type": "code",
   "execution_count": 17,
   "metadata": {},
   "outputs": [],
   "source": [
    "reduceLROnPlat = ReduceLROnPlateau(\n",
    "    monitor='val_loss', \n",
    "    factor=0.95,\n",
    "    patience=3,\n",
    "    verbose=1,\n",
    "    mode='min',\n",
    "    min_delta=0.0001,\n",
    "    cooldown=2,\n",
    "    min_lr=1e-5\n",
    ")\n"
   ]
  },
  {
   "cell_type": "code",
   "execution_count": 18,
   "metadata": {},
   "outputs": [],
   "source": [
    "# Generators\n",
    "batch_size = 128\n",
    "train_generator = GTZANGenerator(X_train, y_train)\n",
    "steps_per_epoch = np.ceil(len(X_train)/batch_size)\n",
    "\n",
    "validation_generator = GTZANGenerator(X_test, y_test)\n",
    "val_steps = np.ceil(len(X_test)/batch_size)\n"
   ]
  },
  {
   "cell_type": "code",
   "execution_count": 19,
   "metadata": {},
   "outputs": [
    {
     "name": "stdout",
     "output_type": "stream",
     "text": [
      "WARNING:tensorflow:From <ipython-input-19-c619abd23725>:1: Model.fit_generator (from tensorflow.python.keras.engine.training) is deprecated and will be removed in a future version.\n",
      "Instructions for updating:\n",
      "Please use Model.fit, which supports generators.\n",
      "Epoch 1/150\n",
      "214/214 [==============================] - 123s 574ms/step - loss: 11.1711 - accuracy: 0.0990 - val_loss: 5.4300 - val_accuracy: 0.0795 - lr: 0.0010\n",
      "Epoch 2/150\n",
      "214/214 [==============================] - 123s 575ms/step - loss: 4.0058 - accuracy: 0.0801 - val_loss: 3.1458 - val_accuracy: 0.1126 - lr: 0.0010\n",
      "Epoch 3/150\n",
      "214/214 [==============================] - 123s 574ms/step - loss: 2.8193 - accuracy: 0.0927 - val_loss: 2.6017 - val_accuracy: 0.1060 - lr: 0.0010\n",
      "Epoch 4/150\n",
      "214/214 [==============================] - 122s 572ms/step - loss: 2.5050 - accuracy: 0.0946 - val_loss: 2.4360 - val_accuracy: 0.1060 - lr: 0.0010\n",
      "Epoch 5/150\n",
      "214/214 [==============================] - 123s 574ms/step - loss: 2.4020 - accuracy: 0.0768 - val_loss: 2.3749 - val_accuracy: 0.1060 - lr: 0.0010\n",
      "Epoch 6/150\n",
      "214/214 [==============================] - 123s 575ms/step - loss: 2.3608 - accuracy: 0.0948 - val_loss: 2.3480 - val_accuracy: 0.1192 - lr: 0.0010\n",
      "Epoch 7/150\n",
      "214/214 [==============================] - 123s 575ms/step - loss: 2.3413 - accuracy: 0.0791 - val_loss: 2.3340 - val_accuracy: 0.1192 - lr: 0.0010\n",
      "Epoch 8/150\n",
      "214/214 [==============================] - 122s 571ms/step - loss: 2.3300 - accuracy: 0.1016 - val_loss: 2.3251 - val_accuracy: 0.1192 - lr: 0.0010\n",
      "Epoch 9/150\n",
      "214/214 [==============================] - 123s 573ms/step - loss: 2.3229 - accuracy: 0.1132 - val_loss: 2.3190 - val_accuracy: 0.1192 - lr: 0.0010\n",
      "Epoch 10/150\n",
      "214/214 [==============================] - 123s 573ms/step - loss: 2.3169 - accuracy: 0.1184 - val_loss: 2.3154 - val_accuracy: 0.1192 - lr: 0.0010\n",
      "Epoch 11/150\n",
      "214/214 [==============================] - 122s 572ms/step - loss: 2.3153 - accuracy: 0.0951 - val_loss: 2.3122 - val_accuracy: 0.1192 - lr: 0.0010\n",
      "Epoch 12/150\n",
      "214/214 [==============================] - 124s 582ms/step - loss: 2.3121 - accuracy: 0.0994 - val_loss: 2.3097 - val_accuracy: 0.1192 - lr: 0.0010\n",
      "Epoch 13/150\n",
      "214/214 [==============================] - 123s 573ms/step - loss: 2.3096 - accuracy: 0.1029 - val_loss: 2.3077 - val_accuracy: 0.1192 - lr: 0.0010\n",
      "Epoch 14/150\n",
      "214/214 [==============================] - 123s 575ms/step - loss: 2.3083 - accuracy: 0.0986 - val_loss: 2.3061 - val_accuracy: 0.1192 - lr: 0.0010\n",
      "Epoch 15/150\n",
      "214/214 [==============================] - 124s 578ms/step - loss: 2.3075 - accuracy: 0.0687 - val_loss: 2.3054 - val_accuracy: 0.0861 - lr: 0.0010\n",
      "Epoch 16/150\n",
      "214/214 [==============================] - 105s 490ms/step - loss: 2.3058 - accuracy: 0.0886 - val_loss: 2.3043 - val_accuracy: 0.1192 - lr: 0.0010\n",
      "Epoch 17/150\n",
      "214/214 [==============================] - 119s 554ms/step - loss: 2.3041 - accuracy: 0.1054 - val_loss: 2.3042 - val_accuracy: 0.0861 - lr: 0.0010\n",
      "Epoch 18/150\n",
      "214/214 [==============================] - 128s 600ms/step - loss: 2.3045 - accuracy: 0.0899 - val_loss: 2.3041 - val_accuracy: 0.0861 - lr: 0.0010\n",
      "Epoch 19/150\n",
      "214/214 [==============================] - 120s 559ms/step - loss: 2.3049 - accuracy: 0.1038 - val_loss: 2.3037 - val_accuracy: 0.0861 - lr: 0.0010\n",
      "Epoch 20/150\n",
      "214/214 [==============================] - 139s 650ms/step - loss: 2.3031 - accuracy: 0.1225 - val_loss: 2.3035 - val_accuracy: 0.0861 - lr: 0.0010\n",
      "Epoch 21/150\n",
      "214/214 [==============================] - 148s 693ms/step - loss: 2.3022 - accuracy: 0.1165 - val_loss: 2.3034 - val_accuracy: 0.0861 - lr: 0.0010\n",
      "Epoch 22/150\n",
      "214/214 [==============================] - 149s 695ms/step - loss: 2.3036 - accuracy: 0.1052 - val_loss: 2.3037 - val_accuracy: 0.0861 - lr: 0.0010\n",
      "Epoch 23/150\n",
      "214/214 [==============================] - 149s 695ms/step - loss: 2.3017 - accuracy: 0.1073 - val_loss: 2.3039 - val_accuracy: 0.0861 - lr: 0.0010\n",
      "Epoch 24/150\n",
      "214/214 [==============================] - ETA: 0s - loss: 2.3044 - accuracy: 0.0931\n",
      "Epoch 00024: ReduceLROnPlateau reducing learning rate to 0.0009500000451225787.\n",
      "214/214 [==============================] - 149s 696ms/step - loss: 2.3044 - accuracy: 0.0931 - val_loss: 2.3037 - val_accuracy: 0.0861 - lr: 0.0010\n",
      "Epoch 25/150\n",
      "214/214 [==============================] - 148s 692ms/step - loss: 2.3025 - accuracy: 0.0972 - val_loss: 2.3036 - val_accuracy: 0.0861 - lr: 9.5000e-04\n",
      "Epoch 26/150\n",
      "214/214 [==============================] - 149s 695ms/step - loss: 2.3005 - accuracy: 0.0791 - val_loss: 2.3037 - val_accuracy: 0.0861 - lr: 9.5000e-04\n",
      "Epoch 27/150\n",
      "214/214 [==============================] - 148s 691ms/step - loss: 2.3044 - accuracy: 0.0999 - val_loss: 2.3039 - val_accuracy: 0.0861 - lr: 9.5000e-04\n",
      "Epoch 28/150\n",
      "214/214 [==============================] - ETA: 0s - loss: 2.3025 - accuracy: 0.1036\n",
      "Epoch 00028: ReduceLROnPlateau reducing learning rate to 0.0009025000152178108.\n",
      "214/214 [==============================] - 144s 671ms/step - loss: 2.3025 - accuracy: 0.1036 - val_loss: 2.3040 - val_accuracy: 0.0861 - lr: 9.5000e-04\n",
      "Epoch 29/150\n",
      "214/214 [==============================] - 149s 694ms/step - loss: 2.3045 - accuracy: 0.0640 - val_loss: 2.3028 - val_accuracy: 0.0994 - lr: 9.0250e-04\n",
      "Epoch 30/150\n",
      "214/214 [==============================] - 149s 694ms/step - loss: 2.3035 - accuracy: 0.0903 - val_loss: 2.3029 - val_accuracy: 0.0994 - lr: 9.0250e-04\n",
      "Epoch 31/150\n",
      "214/214 [==============================] - 148s 690ms/step - loss: 2.3030 - accuracy: 0.0840 - val_loss: 2.3029 - val_accuracy: 0.0927 - lr: 9.0250e-04\n",
      "Epoch 32/150\n",
      "214/214 [==============================] - ETA: 0s - loss: 2.3023 - accuracy: 0.1007\n",
      "Epoch 00032: ReduceLROnPlateau reducing learning rate to 0.0008573750033974647.\n",
      "214/214 [==============================] - 148s 692ms/step - loss: 2.3023 - accuracy: 0.1007 - val_loss: 2.3033 - val_accuracy: 0.0927 - lr: 9.0250e-04\n",
      "Epoch 33/150\n",
      "214/214 [==============================] - 148s 693ms/step - loss: 2.3020 - accuracy: 0.1027 - val_loss: 2.3036 - val_accuracy: 0.1192 - lr: 8.5737e-04\n",
      "Epoch 34/150\n",
      "214/214 [==============================] - 123s 575ms/step - loss: 2.3033 - accuracy: 0.0983 - val_loss: 2.3041 - val_accuracy: 0.1192 - lr: 8.5737e-04\n",
      "Epoch 35/150\n",
      "214/214 [==============================] - 129s 601ms/step - loss: 2.3017 - accuracy: 0.1032 - val_loss: 2.3042 - val_accuracy: 0.0994 - lr: 8.5737e-04\n",
      "Epoch 36/150\n",
      "214/214 [==============================] - ETA: 0s - loss: 2.3036 - accuracy: 0.1067\n",
      "Epoch 00036: ReduceLROnPlateau reducing learning rate to 0.0008145062311086804.\n",
      "214/214 [==============================] - 120s 559ms/step - loss: 2.3036 - accuracy: 0.1067 - val_loss: 2.3038 - val_accuracy: 0.0994 - lr: 8.5737e-04\n",
      "Epoch 37/150\n",
      "214/214 [==============================] - 120s 560ms/step - loss: 2.3024 - accuracy: 0.0859 - val_loss: 2.3040 - val_accuracy: 0.0994 - lr: 8.1451e-04\n",
      "Epoch 38/150\n",
      "214/214 [==============================] - 119s 557ms/step - loss: 2.3045 - accuracy: 0.1051 - val_loss: 2.3036 - val_accuracy: 0.0927 - lr: 8.1451e-04\n",
      "Epoch 39/150\n",
      "214/214 [==============================] - 118s 553ms/step - loss: 2.3044 - accuracy: 0.0804 - val_loss: 2.3036 - val_accuracy: 0.0927 - lr: 8.1451e-04\n",
      "Epoch 40/150\n",
      "214/214 [==============================] - ETA: 0s - loss: 2.3029 - accuracy: 0.0830\n",
      "Epoch 00040: ReduceLROnPlateau reducing learning rate to 0.0007737808919046074.\n",
      "214/214 [==============================] - 118s 553ms/step - loss: 2.3029 - accuracy: 0.0830 - val_loss: 2.3035 - val_accuracy: 0.0994 - lr: 8.1451e-04\n",
      "Epoch 41/150\n",
      "214/214 [==============================] - 119s 554ms/step - loss: 2.3043 - accuracy: 0.0925 - val_loss: 2.3033 - val_accuracy: 0.1060 - lr: 7.7378e-04\n",
      "Epoch 42/150\n",
      "214/214 [==============================] - 119s 554ms/step - loss: 2.3027 - accuracy: 0.0892 - val_loss: 2.3026 - val_accuracy: 0.0994 - lr: 7.7378e-04\n",
      "Epoch 43/150\n",
      "214/214 [==============================] - 119s 555ms/step - loss: 2.3041 - accuracy: 0.1070 - val_loss: 2.3027 - val_accuracy: 0.0994 - lr: 7.7378e-04\n",
      "Epoch 44/150\n",
      "214/214 [==============================] - 119s 555ms/step - loss: 2.3029 - accuracy: 0.1072 - val_loss: 2.3031 - val_accuracy: 0.0994 - lr: 7.7378e-04\n"
     ]
    },
    {
     "name": "stdout",
     "output_type": "stream",
     "text": [
      "Epoch 45/150\n",
      "214/214 [==============================] - ETA: 0s - loss: 2.3027 - accuracy: 0.1178\n",
      "Epoch 00045: ReduceLROnPlateau reducing learning rate to 0.000735091819660738.\n",
      "214/214 [==============================] - 119s 555ms/step - loss: 2.3027 - accuracy: 0.1178 - val_loss: 2.3030 - val_accuracy: 0.0994 - lr: 7.7378e-04\n",
      "Epoch 46/150\n",
      "214/214 [==============================] - 119s 555ms/step - loss: 2.3026 - accuracy: 0.1114 - val_loss: 2.3031 - val_accuracy: 0.0994 - lr: 7.3509e-04\n",
      "Epoch 47/150\n",
      "214/214 [==============================] - 119s 555ms/step - loss: 2.3044 - accuracy: 0.1081 - val_loss: 2.3029 - val_accuracy: 0.0994 - lr: 7.3509e-04\n",
      "Epoch 48/150\n",
      "214/214 [==============================] - 118s 551ms/step - loss: 2.3021 - accuracy: 0.1141 - val_loss: 2.3027 - val_accuracy: 0.0994 - lr: 7.3509e-04\n",
      "Epoch 49/150\n",
      "214/214 [==============================] - 118s 550ms/step - loss: 2.3041 - accuracy: 0.0767 - val_loss: 2.3023 - val_accuracy: 0.0994 - lr: 7.3509e-04\n",
      "Epoch 50/150\n",
      "214/214 [==============================] - 118s 553ms/step - loss: 2.3032 - accuracy: 0.0872 - val_loss: 2.3017 - val_accuracy: 0.0994 - lr: 7.3509e-04\n",
      "Epoch 51/150\n",
      "214/214 [==============================] - 118s 553ms/step - loss: 2.3044 - accuracy: 0.1018 - val_loss: 2.3019 - val_accuracy: 0.0994 - lr: 7.3509e-04\n",
      "Epoch 52/150\n",
      "214/214 [==============================] - 118s 550ms/step - loss: 2.3036 - accuracy: 0.1011 - val_loss: 2.3018 - val_accuracy: 0.0994 - lr: 7.3509e-04\n",
      "Epoch 53/150\n",
      "214/214 [==============================] - ETA: 0s - loss: 2.3035 - accuracy: 0.0961\n",
      "Epoch 00053: ReduceLROnPlateau reducing learning rate to 0.0006983372120885178.\n",
      "214/214 [==============================] - 110s 513ms/step - loss: 2.3035 - accuracy: 0.0961 - val_loss: 2.3024 - val_accuracy: 0.0994 - lr: 7.3509e-04\n",
      "Epoch 54/150\n",
      "214/214 [==============================] - 107s 502ms/step - loss: 2.3028 - accuracy: 0.1101 - val_loss: 2.3028 - val_accuracy: 0.0994 - lr: 6.9834e-04\n",
      "Epoch 55/150\n",
      "214/214 [==============================] - 104s 487ms/step - loss: 2.3022 - accuracy: 0.1132 - val_loss: 2.3027 - val_accuracy: 0.0994 - lr: 6.9834e-04\n",
      "Epoch 56/150\n",
      "214/214 [==============================] - 103s 482ms/step - loss: 2.3033 - accuracy: 0.0902 - val_loss: 2.3024 - val_accuracy: 0.0994 - lr: 6.9834e-04\n",
      "Epoch 57/150\n",
      "214/214 [==============================] - ETA: 0s - loss: 2.3027 - accuracy: 0.0811\n",
      "Epoch 00057: ReduceLROnPlateau reducing learning rate to 0.0006634203542489559.\n",
      "214/214 [==============================] - 102s 477ms/step - loss: 2.3027 - accuracy: 0.0811 - val_loss: 2.3023 - val_accuracy: 0.1192 - lr: 6.9834e-04\n",
      "Epoch 58/150\n",
      "214/214 [==============================] - 102s 477ms/step - loss: 2.3032 - accuracy: 0.0891 - val_loss: 2.3025 - val_accuracy: 0.1192 - lr: 6.6342e-04\n",
      "Epoch 59/150\n",
      "214/214 [==============================] - 102s 477ms/step - loss: 2.3034 - accuracy: 0.0877 - val_loss: 2.3026 - val_accuracy: 0.0994 - lr: 6.6342e-04\n",
      "Epoch 60/150\n",
      "214/214 [==============================] - 102s 477ms/step - loss: 2.3037 - accuracy: 0.1026 - val_loss: 2.3028 - val_accuracy: 0.0994 - lr: 6.6342e-04\n",
      "Epoch 61/150\n",
      "214/214 [==============================] - ETA: 0s - loss: 2.3032 - accuracy: 0.0833\n",
      "Epoch 00061: ReduceLROnPlateau reducing learning rate to 0.0006302493420662358.\n",
      "214/214 [==============================] - 102s 476ms/step - loss: 2.3032 - accuracy: 0.0833 - val_loss: 2.3030 - val_accuracy: 0.0994 - lr: 6.6342e-04\n",
      "Epoch 62/150\n",
      "214/214 [==============================] - 101s 474ms/step - loss: 2.3032 - accuracy: 0.1106 - val_loss: 2.3030 - val_accuracy: 0.0994 - lr: 6.3025e-04\n",
      "Epoch 63/150\n",
      "214/214 [==============================] - 101s 473ms/step - loss: 2.3026 - accuracy: 0.0999 - val_loss: 2.3036 - val_accuracy: 0.0994 - lr: 6.3025e-04\n",
      "Epoch 64/150\n",
      "214/214 [==============================] - 101s 473ms/step - loss: 2.3028 - accuracy: 0.0999 - val_loss: 2.3037 - val_accuracy: 0.0861 - lr: 6.3025e-04\n",
      "Epoch 65/150\n",
      "214/214 [==============================] - ETA: 0s - loss: 2.3040 - accuracy: 0.0702\n",
      "Epoch 00065: ReduceLROnPlateau reducing learning rate to 0.0005987368611386045.\n",
      "214/214 [==============================] - 101s 473ms/step - loss: 2.3040 - accuracy: 0.0702 - val_loss: 2.3035 - val_accuracy: 0.0861 - lr: 6.3025e-04\n",
      "Epoch 66/150\n",
      "214/214 [==============================] - 101s 472ms/step - loss: 2.3029 - accuracy: 0.1126 - val_loss: 2.3034 - val_accuracy: 0.0861 - lr: 5.9874e-04\n",
      "Epoch 67/150\n",
      "214/214 [==============================] - 101s 473ms/step - loss: 2.3033 - accuracy: 0.0993 - val_loss: 2.3030 - val_accuracy: 0.0861 - lr: 5.9874e-04\n",
      "Epoch 68/150\n",
      "214/214 [==============================] - 102s 476ms/step - loss: 2.3037 - accuracy: 0.0959 - val_loss: 2.3030 - val_accuracy: 0.0861 - lr: 5.9874e-04\n",
      "Epoch 69/150\n",
      "214/214 [==============================] - ETA: 0s - loss: 2.3023 - accuracy: 0.1074\n",
      "Epoch 00069: ReduceLROnPlateau reducing learning rate to 0.0005688000208465382.\n",
      "214/214 [==============================] - 102s 476ms/step - loss: 2.3023 - accuracy: 0.1074 - val_loss: 2.3033 - val_accuracy: 0.0861 - lr: 5.9874e-04\n",
      "Epoch 70/150\n",
      "214/214 [==============================] - 102s 476ms/step - loss: 2.3028 - accuracy: 0.1051 - val_loss: 2.3029 - val_accuracy: 0.0861 - lr: 5.6880e-04\n",
      "Epoch 71/150\n",
      "214/214 [==============================] - 102s 476ms/step - loss: 2.3031 - accuracy: 0.0744 - val_loss: 2.3027 - val_accuracy: 0.0861 - lr: 5.6880e-04\n",
      "Epoch 72/150\n",
      "214/214 [==============================] - 104s 484ms/step - loss: 2.3024 - accuracy: 0.0764 - val_loss: 2.3029 - val_accuracy: 0.1058 - lr: 5.6880e-04\n",
      "Epoch 73/150\n",
      "214/214 [==============================] - ETA: 0s - loss: 2.3029 - accuracy: 0.0756\n",
      "Epoch 00073: ReduceLROnPlateau reducing learning rate to 0.0005403600225690752.\n",
      "214/214 [==============================] - 104s 484ms/step - loss: 2.3029 - accuracy: 0.0756 - val_loss: 2.3024 - val_accuracy: 0.1192 - lr: 5.6880e-04\n",
      "Epoch 74/150\n",
      "214/214 [==============================] - 104s 484ms/step - loss: 2.3036 - accuracy: 0.1002 - val_loss: 2.3022 - val_accuracy: 0.1192 - lr: 5.4036e-04\n",
      "Epoch 75/150\n",
      "214/214 [==============================] - 101s 474ms/step - loss: 2.3031 - accuracy: 0.0705 - val_loss: 2.3022 - val_accuracy: 0.1192 - lr: 5.4036e-04\n",
      "Epoch 76/150\n",
      "214/214 [==============================] - 101s 473ms/step - loss: 2.3028 - accuracy: 0.0902 - val_loss: 2.3024 - val_accuracy: 0.1192 - lr: 5.4036e-04\n",
      "Epoch 77/150\n",
      "214/214 [==============================] - ETA: 0s - loss: 2.3032 - accuracy: 0.0744\n",
      "Epoch 00077: ReduceLROnPlateau reducing learning rate to 0.0005133419937919825.\n",
      "214/214 [==============================] - 105s 489ms/step - loss: 2.3032 - accuracy: 0.0744 - val_loss: 2.3024 - val_accuracy: 0.1058 - lr: 5.4036e-04\n",
      "Epoch 78/150\n",
      "214/214 [==============================] - 107s 498ms/step - loss: 2.3029 - accuracy: 0.0908 - val_loss: 2.3025 - val_accuracy: 0.1058 - lr: 5.1334e-04\n",
      "Epoch 79/150\n",
      "214/214 [==============================] - 102s 478ms/step - loss: 2.3034 - accuracy: 0.0723 - val_loss: 2.3029 - val_accuracy: 0.0927 - lr: 5.1334e-04\n",
      "Epoch 80/150\n",
      "214/214 [==============================] - 104s 488ms/step - loss: 2.3036 - accuracy: 0.1045 - val_loss: 2.3028 - val_accuracy: 0.0927 - lr: 5.1334e-04\n",
      "Epoch 81/150\n",
      "214/214 [==============================] - ETA: 0s - loss: 2.3031 - accuracy: 0.0947\n",
      "Epoch 00081: ReduceLROnPlateau reducing learning rate to 0.0004876748775132.\n",
      "214/214 [==============================] - 102s 478ms/step - loss: 2.3031 - accuracy: 0.0947 - val_loss: 2.3027 - val_accuracy: 0.0927 - lr: 5.1334e-04\n",
      "Epoch 82/150\n",
      "214/214 [==============================] - 102s 476ms/step - loss: 2.3019 - accuracy: 0.0899 - val_loss: 2.3028 - val_accuracy: 0.0927 - lr: 4.8767e-04\n",
      "Epoch 83/150\n",
      "214/214 [==============================] - 102s 478ms/step - loss: 2.3031 - accuracy: 0.1005 - val_loss: 2.3029 - val_accuracy: 0.1060 - lr: 4.8767e-04\n",
      "Epoch 84/150\n",
      "214/214 [==============================] - 102s 478ms/step - loss: 2.3029 - accuracy: 0.1020 - val_loss: 2.3028 - val_accuracy: 0.0927 - lr: 4.8767e-04\n",
      "Epoch 85/150\n",
      "214/214 [==============================] - ETA: 0s - loss: 2.3029 - accuracy: 0.1110\n",
      "Epoch 00085: ReduceLROnPlateau reducing learning rate to 0.00046329112810781223.\n",
      "214/214 [==============================] - 102s 476ms/step - loss: 2.3029 - accuracy: 0.1110 - val_loss: 2.3030 - val_accuracy: 0.0927 - lr: 4.8767e-04\n"
     ]
    },
    {
     "name": "stdout",
     "output_type": "stream",
     "text": [
      "Epoch 86/150\n",
      "214/214 [==============================] - 103s 481ms/step - loss: 2.3029 - accuracy: 0.0965 - val_loss: 2.3030 - val_accuracy: 0.0927 - lr: 4.6329e-04\n",
      "Epoch 87/150\n",
      "214/214 [==============================] - 105s 491ms/step - loss: 2.3025 - accuracy: 0.0971 - val_loss: 2.3030 - val_accuracy: 0.0927 - lr: 4.6329e-04\n",
      "Epoch 88/150\n",
      "214/214 [==============================] - 103s 483ms/step - loss: 2.3026 - accuracy: 0.0896 - val_loss: 2.3031 - val_accuracy: 0.1060 - lr: 4.6329e-04\n",
      "Epoch 89/150\n",
      "214/214 [==============================] - ETA: 0s - loss: 2.3028 - accuracy: 0.1052\n",
      "Epoch 00089: ReduceLROnPlateau reducing learning rate to 0.00044012657308485355.\n",
      "214/214 [==============================] - 103s 483ms/step - loss: 2.3028 - accuracy: 0.1052 - val_loss: 2.3030 - val_accuracy: 0.1060 - lr: 4.6329e-04\n",
      "Epoch 90/150\n",
      "214/214 [==============================] - 103s 480ms/step - loss: 2.3027 - accuracy: 0.1103 - val_loss: 2.3028 - val_accuracy: 0.1060 - lr: 4.4013e-04\n",
      "Epoch 91/150\n",
      "214/214 [==============================] - 103s 479ms/step - loss: 2.3017 - accuracy: 0.1065 - val_loss: 2.3025 - val_accuracy: 0.1060 - lr: 4.4013e-04\n",
      "Epoch 92/150\n",
      "214/214 [==============================] - 103s 480ms/step - loss: 2.3031 - accuracy: 0.0902 - val_loss: 2.3022 - val_accuracy: 0.1060 - lr: 4.4013e-04\n",
      "Epoch 93/150\n",
      "214/214 [==============================] - ETA: 0s - loss: 2.3028 - accuracy: 0.1017\n",
      "Epoch 00093: ReduceLROnPlateau reducing learning rate to 0.00041812024719547477.\n",
      "214/214 [==============================] - 103s 480ms/step - loss: 2.3028 - accuracy: 0.1017 - val_loss: 2.3024 - val_accuracy: 0.1060 - lr: 4.4013e-04\n",
      "Epoch 94/150\n",
      "214/214 [==============================] - 104s 484ms/step - loss: 2.3033 - accuracy: 0.1070 - val_loss: 2.3022 - val_accuracy: 0.1060 - lr: 4.1812e-04\n",
      "Epoch 95/150\n",
      "214/214 [==============================] - 106s 496ms/step - loss: 2.3024 - accuracy: 0.1105 - val_loss: 2.3023 - val_accuracy: 0.1060 - lr: 4.1812e-04\n",
      "Epoch 96/150\n",
      "214/214 [==============================] - 106s 495ms/step - loss: 2.3026 - accuracy: 0.1059 - val_loss: 2.3021 - val_accuracy: 0.1060 - lr: 4.1812e-04\n",
      "Epoch 97/150\n",
      "214/214 [==============================] - ETA: 0s - loss: 2.3036 - accuracy: 0.0946\n",
      "Epoch 00097: ReduceLROnPlateau reducing learning rate to 0.00039721422654110934.\n",
      "214/214 [==============================] - 106s 497ms/step - loss: 2.3036 - accuracy: 0.0946 - val_loss: 2.3020 - val_accuracy: 0.1060 - lr: 4.1812e-04\n",
      "Epoch 98/150\n",
      "214/214 [==============================] - 107s 499ms/step - loss: 2.3030 - accuracy: 0.1019 - val_loss: 2.3022 - val_accuracy: 0.1060 - lr: 3.9721e-04\n",
      "Epoch 99/150\n",
      "214/214 [==============================] - 107s 500ms/step - loss: 2.3036 - accuracy: 0.1018 - val_loss: 2.3024 - val_accuracy: 0.1060 - lr: 3.9721e-04\n",
      "Epoch 100/150\n",
      "214/214 [==============================] - 112s 525ms/step - loss: 2.3030 - accuracy: 0.0976 - val_loss: 2.3021 - val_accuracy: 0.1060 - lr: 3.9721e-04\n",
      "Epoch 101/150\n",
      "214/214 [==============================] - ETA: 0s - loss: 2.3034 - accuracy: 0.0903\n",
      "Epoch 00101: ReduceLROnPlateau reducing learning rate to 0.00037735351797891776.\n",
      "214/214 [==============================] - 105s 493ms/step - loss: 2.3034 - accuracy: 0.0903 - val_loss: 2.3022 - val_accuracy: 0.1060 - lr: 3.9721e-04\n",
      "Epoch 102/150\n",
      "214/214 [==============================] - 104s 485ms/step - loss: 2.3028 - accuracy: 0.0993 - val_loss: 2.3021 - val_accuracy: 0.1060 - lr: 3.7735e-04\n",
      "Epoch 103/150\n",
      "214/214 [==============================] - 107s 499ms/step - loss: 2.3030 - accuracy: 0.0904 - val_loss: 2.3024 - val_accuracy: 0.1060 - lr: 3.7735e-04\n",
      "Epoch 104/150\n",
      "214/214 [==============================] - 109s 511ms/step - loss: 2.3030 - accuracy: 0.0801 - val_loss: 2.3023 - val_accuracy: 0.1058 - lr: 3.7735e-04\n",
      "Epoch 105/150\n",
      "214/214 [==============================] - ETA: 0s - loss: 2.3033 - accuracy: 0.1039\n",
      "Epoch 00105: ReduceLROnPlateau reducing learning rate to 0.00035848583793267607.\n",
      "214/214 [==============================] - 107s 499ms/step - loss: 2.3033 - accuracy: 0.1039 - val_loss: 2.3022 - val_accuracy: 0.1192 - lr: 3.7735e-04\n",
      "Epoch 106/150\n",
      "214/214 [==============================] - 102s 478ms/step - loss: 2.3021 - accuracy: 0.1275 - val_loss: 2.3018 - val_accuracy: 0.1192 - lr: 3.5849e-04\n",
      "Epoch 107/150\n",
      "214/214 [==============================] - 102s 478ms/step - loss: 2.3033 - accuracy: 0.0936 - val_loss: 2.3017 - val_accuracy: 0.1192 - lr: 3.5849e-04\n",
      "Epoch 108/150\n",
      "214/214 [==============================] - 103s 479ms/step - loss: 2.3028 - accuracy: 0.1057 - val_loss: 2.3019 - val_accuracy: 0.1192 - lr: 3.5849e-04\n",
      "Epoch 109/150\n",
      "214/214 [==============================] - ETA: 0s - loss: 2.3025 - accuracy: 0.0991\n",
      "Epoch 00109: ReduceLROnPlateau reducing learning rate to 0.00034056155709549785.\n",
      "214/214 [==============================] - 102s 478ms/step - loss: 2.3025 - accuracy: 0.0991 - val_loss: 2.3021 - val_accuracy: 0.1192 - lr: 3.5849e-04\n",
      "Epoch 110/150\n",
      "214/214 [==============================] - 102s 478ms/step - loss: 2.3026 - accuracy: 0.0958 - val_loss: 2.3021 - val_accuracy: 0.1192 - lr: 3.4056e-04\n",
      "Epoch 111/150\n",
      "214/214 [==============================] - 102s 475ms/step - loss: 2.3021 - accuracy: 0.1161 - val_loss: 2.3022 - val_accuracy: 0.1192 - lr: 3.4056e-04\n",
      "Epoch 112/150\n",
      "214/214 [==============================] - 101s 473ms/step - loss: 2.3029 - accuracy: 0.1004 - val_loss: 2.3023 - val_accuracy: 0.1192 - lr: 3.4056e-04\n",
      "Epoch 113/150\n",
      "214/214 [==============================] - ETA: 0s - loss: 2.3033 - accuracy: 0.1026\n",
      "Epoch 00113: ReduceLROnPlateau reducing learning rate to 0.00032353347924072293.\n",
      "214/214 [==============================] - 101s 472ms/step - loss: 2.3033 - accuracy: 0.1026 - val_loss: 2.3023 - val_accuracy: 0.1192 - lr: 3.4056e-04\n",
      "Epoch 114/150\n",
      "214/214 [==============================] - 108s 504ms/step - loss: 2.3027 - accuracy: 0.0931 - val_loss: 2.3025 - val_accuracy: 0.1192 - lr: 3.2353e-04\n",
      "Epoch 115/150\n",
      "214/214 [==============================] - 104s 484ms/step - loss: 2.3031 - accuracy: 0.0969 - val_loss: 2.3025 - val_accuracy: 0.1192 - lr: 3.2353e-04\n",
      "Epoch 116/150\n",
      "214/214 [==============================] - 104s 484ms/step - loss: 2.3033 - accuracy: 0.1027 - val_loss: 2.3024 - val_accuracy: 0.1192 - lr: 3.2353e-04\n",
      "Epoch 117/150\n",
      "214/214 [==============================] - ETA: 0s - loss: 2.3035 - accuracy: 0.0653\n",
      "Epoch 00117: ReduceLROnPlateau reducing learning rate to 0.00030735681357327847.\n",
      "214/214 [==============================] - 104s 484ms/step - loss: 2.3035 - accuracy: 0.0653 - val_loss: 2.3023 - val_accuracy: 0.1192 - lr: 3.2353e-04\n",
      "Epoch 118/150\n",
      "214/214 [==============================] - 106s 497ms/step - loss: 2.3034 - accuracy: 0.0826 - val_loss: 2.3023 - val_accuracy: 0.1192 - lr: 3.0736e-04\n",
      "Epoch 119/150\n",
      "214/214 [==============================] - 103s 479ms/step - loss: 2.3028 - accuracy: 0.0829 - val_loss: 2.3022 - val_accuracy: 0.1192 - lr: 3.0736e-04\n",
      "Epoch 120/150\n",
      "214/214 [==============================] - 102s 477ms/step - loss: 2.3033 - accuracy: 0.0812 - val_loss: 2.3023 - val_accuracy: 0.0927 - lr: 3.0736e-04\n",
      "Epoch 121/150\n",
      "214/214 [==============================] - ETA: 0s - loss: 2.3030 - accuracy: 0.1031\n",
      "Epoch 00121: ReduceLROnPlateau reducing learning rate to 0.00029198898118920624.\n",
      "214/214 [==============================] - 102s 477ms/step - loss: 2.3030 - accuracy: 0.1031 - val_loss: 2.3024 - val_accuracy: 0.0927 - lr: 3.0736e-04\n",
      "Epoch 122/150\n",
      "214/214 [==============================] - 104s 488ms/step - loss: 2.3028 - accuracy: 0.1081 - val_loss: 2.3025 - val_accuracy: 0.0927 - lr: 2.9199e-04\n",
      "Epoch 123/150\n",
      "214/214 [==============================] - 104s 487ms/step - loss: 2.3022 - accuracy: 0.1070 - val_loss: 2.3024 - val_accuracy: 0.0927 - lr: 2.9199e-04\n",
      "Epoch 124/150\n",
      "214/214 [==============================] - 102s 475ms/step - loss: 2.3029 - accuracy: 0.1026 - val_loss: 2.3025 - val_accuracy: 0.0927 - lr: 2.9199e-04\n",
      "Epoch 125/150\n",
      "214/214 [==============================] - ETA: 0s - loss: 2.3024 - accuracy: 0.1199\n",
      "Epoch 00125: ReduceLROnPlateau reducing learning rate to 0.00027738953212974593.\n",
      "214/214 [==============================] - 102s 475ms/step - loss: 2.3024 - accuracy: 0.1199 - val_loss: 2.3024 - val_accuracy: 0.0927 - lr: 2.9199e-04\n"
     ]
    },
    {
     "name": "stdout",
     "output_type": "stream",
     "text": [
      "Epoch 126/150\n",
      "214/214 [==============================] - 102s 476ms/step - loss: 2.3029 - accuracy: 0.1013 - val_loss: 2.3025 - val_accuracy: 0.0927 - lr: 2.7739e-04\n",
      "Epoch 127/150\n",
      "214/214 [==============================] - 102s 474ms/step - loss: 2.3024 - accuracy: 0.1089 - val_loss: 2.3026 - val_accuracy: 0.0927 - lr: 2.7739e-04\n",
      "Epoch 128/150\n",
      "214/214 [==============================] - 103s 480ms/step - loss: 2.3021 - accuracy: 0.1173 - val_loss: 2.3025 - val_accuracy: 0.0927 - lr: 2.7739e-04\n",
      "Epoch 129/150\n",
      "214/214 [==============================] - ETA: 0s - loss: 2.3026 - accuracy: 0.1010\n",
      "Epoch 00129: ReduceLROnPlateau reducing learning rate to 0.0002635200624354184.\n",
      "214/214 [==============================] - 108s 504ms/step - loss: 2.3026 - accuracy: 0.1010 - val_loss: 2.3025 - val_accuracy: 0.0927 - lr: 2.7739e-04\n",
      "Epoch 130/150\n",
      "214/214 [==============================] - 107s 499ms/step - loss: 2.3035 - accuracy: 0.0982 - val_loss: 2.3025 - val_accuracy: 0.0927 - lr: 2.6352e-04\n",
      "Epoch 131/150\n",
      "214/214 [==============================] - 110s 515ms/step - loss: 2.3031 - accuracy: 0.0921 - val_loss: 2.3025 - val_accuracy: 0.0927 - lr: 2.6352e-04\n",
      "Epoch 132/150\n",
      "214/214 [==============================] - 115s 536ms/step - loss: 2.3024 - accuracy: 0.0957 - val_loss: 2.3023 - val_accuracy: 0.0927 - lr: 2.6352e-04\n",
      "Epoch 133/150\n",
      "214/214 [==============================] - ETA: 0s - loss: 2.3032 - accuracy: 0.1021\n",
      "Epoch 00133: ReduceLROnPlateau reducing learning rate to 0.0002503440482541919.\n",
      "214/214 [==============================] - 116s 544ms/step - loss: 2.3032 - accuracy: 0.1021 - val_loss: 2.3024 - val_accuracy: 0.0927 - lr: 2.6352e-04\n",
      "Epoch 134/150\n",
      "214/214 [==============================] - 112s 522ms/step - loss: 2.3023 - accuracy: 0.1189 - val_loss: 2.3023 - val_accuracy: 0.0927 - lr: 2.5034e-04\n",
      "Epoch 135/150\n",
      "214/214 [==============================] - 110s 516ms/step - loss: 2.3026 - accuracy: 0.1138 - val_loss: 2.3023 - val_accuracy: 0.0927 - lr: 2.5034e-04\n",
      "Epoch 136/150\n",
      "214/214 [==============================] - 109s 511ms/step - loss: 2.3029 - accuracy: 0.0966 - val_loss: 2.3023 - val_accuracy: 0.0927 - lr: 2.5034e-04\n",
      "Epoch 137/150\n",
      "214/214 [==============================] - ETA: 0s - loss: 2.3024 - accuracy: 0.1031\n",
      "Epoch 00137: ReduceLROnPlateau reducing learning rate to 0.00023782684584148226.\n",
      "214/214 [==============================] - 110s 516ms/step - loss: 2.3024 - accuracy: 0.1031 - val_loss: 2.3022 - val_accuracy: 0.0927 - lr: 2.5034e-04\n",
      "Epoch 138/150\n",
      "214/214 [==============================] - 110s 514ms/step - loss: 2.3031 - accuracy: 0.0928 - val_loss: 2.3023 - val_accuracy: 0.0927 - lr: 2.3783e-04\n",
      "Epoch 139/150\n",
      "214/214 [==============================] - 107s 501ms/step - loss: 2.3026 - accuracy: 0.1159 - val_loss: 2.3023 - val_accuracy: 0.0927 - lr: 2.3783e-04\n",
      "Epoch 140/150\n",
      "214/214 [==============================] - 104s 488ms/step - loss: 2.3027 - accuracy: 0.1062 - val_loss: 2.3024 - val_accuracy: 0.0927 - lr: 2.3783e-04\n",
      "Epoch 141/150\n",
      "214/214 [==============================] - ETA: 0s - loss: 2.3029 - accuracy: 0.0956\n",
      "Epoch 00141: ReduceLROnPlateau reducing learning rate to 0.00022593549801968037.\n",
      "214/214 [==============================] - 102s 476ms/step - loss: 2.3029 - accuracy: 0.0956 - val_loss: 2.3026 - val_accuracy: 0.0927 - lr: 2.3783e-04\n",
      "Epoch 142/150\n",
      "214/214 [==============================] - 102s 477ms/step - loss: 2.3033 - accuracy: 0.0821 - val_loss: 2.3027 - val_accuracy: 0.0927 - lr: 2.2594e-04\n",
      "Epoch 143/150\n",
      "214/214 [==============================] - 102s 478ms/step - loss: 2.3021 - accuracy: 0.1170 - val_loss: 2.3029 - val_accuracy: 0.0927 - lr: 2.2594e-04\n",
      "Epoch 144/150\n",
      "214/214 [==============================] - 102s 477ms/step - loss: 2.3026 - accuracy: 0.0908 - val_loss: 2.3029 - val_accuracy: 0.0927 - lr: 2.2594e-04\n",
      "Epoch 145/150\n",
      "214/214 [==============================] - ETA: 0s - loss: 2.3023 - accuracy: 0.1033\n",
      "Epoch 00145: ReduceLROnPlateau reducing learning rate to 0.00021463872035383245.\n",
      "214/214 [==============================] - 110s 514ms/step - loss: 2.3023 - accuracy: 0.1033 - val_loss: 2.3025 - val_accuracy: 0.0927 - lr: 2.2594e-04\n",
      "Epoch 146/150\n",
      "214/214 [==============================] - 108s 506ms/step - loss: 2.3023 - accuracy: 0.1115 - val_loss: 2.3025 - val_accuracy: 0.0927 - lr: 2.1464e-04\n",
      "Epoch 147/150\n",
      "214/214 [==============================] - 108s 507ms/step - loss: 2.3020 - accuracy: 0.1090 - val_loss: 2.3023 - val_accuracy: 0.0927 - lr: 2.1464e-04\n",
      "Epoch 148/150\n",
      "214/214 [==============================] - 109s 510ms/step - loss: 2.3028 - accuracy: 0.0976 - val_loss: 2.3022 - val_accuracy: 0.0927 - lr: 2.1464e-04\n",
      "Epoch 149/150\n",
      "214/214 [==============================] - ETA: 0s - loss: 2.3031 - accuracy: 0.0991\n",
      "Epoch 00149: ReduceLROnPlateau reducing learning rate to 0.0002039067905570846.\n",
      "214/214 [==============================] - 103s 480ms/step - loss: 2.3031 - accuracy: 0.0991 - val_loss: 2.3023 - val_accuracy: 0.0927 - lr: 2.1464e-04\n",
      "Epoch 150/150\n",
      "214/214 [==============================] - 103s 480ms/step - loss: 2.3024 - accuracy: 0.1060 - val_loss: 2.3023 - val_accuracy: 0.0927 - lr: 2.0391e-04\n"
     ]
    }
   ],
   "source": [
    "hist = model.fit_generator(\n",
    "    train_generator,\n",
    "    steps_per_epoch=steps_per_epoch,\n",
    "    validation_data=validation_generator,\n",
    "    validation_steps=val_steps,\n",
    "    epochs=150,\n",
    "    verbose=1,\n",
    "    callbacks=[reduceLROnPlat])"
   ]
  },
  {
   "cell_type": "code",
   "execution_count": 21,
   "metadata": {},
   "outputs": [
    {
     "name": "stdout",
     "output_type": "stream",
     "text": [
      "val_loss = 2.303 and val_acc = 0.100\n"
     ]
    }
   ],
   "source": [
    "score = model.evaluate(X_test, y_test, verbose=0)\n",
    "print(\"val_loss = {:.3f} and val_acc = {:.3f}\".format(score[0], score[1]))"
   ]
  },
  {
   "cell_type": "code",
   "execution_count": 22,
   "metadata": {},
   "outputs": [
    {
     "data": {
      "image/png": "[encoded data removed]",
      "text/plain": [
       "<Figure size 1080x504 with 2 Axes>"
      ]
     },
     "metadata": {
      "needs_background": "light"
     },
     "output_type": "display_data"
    }
   ],
   "source": [
    "plt.figure(figsize=(15,7))\n",
    "\n",
    "plt.subplot(1,2,1)\n",
    "plt.plot(hist.history['accuracy'], label='train')\n",
    "plt.plot(hist.history['val_accuracy'], label='validation')\n",
    "plt.title('Accuracy')\n",
    "plt.xlabel('Epochs')\n",
    "plt.ylabel('Accuracy')\n",
    "plt.legend()\n",
    "\n",
    "plt.subplot(1,2,2)\n",
    "plt.plot(hist.history['loss'], label='train')\n",
    "plt.plot(hist.history['val_loss'], label='validation')\n",
    "plt.title('Loss')\n",
    "plt.xlabel('Epochs')\n",
    "plt.ylabel('Loss')\n",
    "plt.legend()\n",
    "\n",
    "plt.tight_layout()\n",
    "plt.show()"
   ]
  },
  {
   "cell_type": "code",
   "execution_count": 22,
   "metadata": {},
   "outputs": [],
   "source": [
    "#http://scikit-learn.org/stable/auto_examples/model_selection/plot_confusion_matrix.html\n",
    "def plot_confusion_matrix(cm, classes,\n",
    "                          normalize=False,\n",
    "                          title='Confusion matrix',\n",
    "                          cmap=plt.cm.Blues):\n",
    "    \"\"\"\n",
    "    This function prints and plots the confusion matrix.\n",
    "    Normalization can be applied by setting `normalize=True`.\n",
    "    \"\"\"\n",
    "    if normalize:\n",
    "        cm = cm.astype('float') / cm.sum(axis=1)[:, np.newaxis]\n",
    "        print(\"Normalized confusion matrix\")\n",
    "    else:\n",
    "        print('Confusion matrix, without normalization')\n",
    "\n",
    "    plt.imshow(cm, interpolation='nearest', cmap=cmap)\n",
    "    plt.title(title)\n",
    "    plt.colorbar()\n",
    "    tick_marks = np.arange(len(classes))\n",
    "    plt.xticks(tick_marks, classes, rotation=45)\n",
    "    plt.yticks(tick_marks, classes)\n",
    "\n",
    "    fmt = '.2f' if normalize else 'd'\n",
    "    thresh = cm.max() / 2.\n",
    "    for i, j in itertools.product(range(cm.shape[0]), range(cm.shape[1])):\n",
    "        plt.text(j, i, format(cm[i, j], fmt),\n",
    "                 horizontalalignment=\"center\",\n",
    "                 color=\"white\" if cm[i, j] > thresh else \"black\")\n",
    "\n",
    "    plt.tight_layout()\n",
    "    plt.ylabel('True label')\n",
    "    plt.xlabel('Predicted label')"
   ]
  },
  {
   "cell_type": "code",
   "execution_count": 26,
   "metadata": {},
   "outputs": [],
   "source": [
    "preds = np.argmax(model.predict(X_test), axis = 1)\n",
    "y_orig = np.argmax(y_test, axis = 1)\n",
    "cm = confusion_matrix(preds, y_orig)"
   ]
  },
  {
   "cell_type": "code",
   "execution_count": 27,
   "metadata": {},
   "outputs": [
    {
     "name": "stderr",
     "output_type": "stream",
     "text": [
      "<ipython-input-22-346f3d7ba465>:11: RuntimeWarning: invalid value encountered in true_divide\n",
      "  cm = cm.astype('float') / cm.sum(axis=1)[:, np.newaxis]\n"
     ]
    },
    {
     "name": "stdout",
     "output_type": "stream",
     "text": [
      "Normalized confusion matrix\n"
     ]
    },
    {
     "data": {
      "image/png": "[encoded data removed]",
      "text/plain": [
       "<Figure size 720x720 with 2 Axes>"
      ]
     },
     "metadata": {
      "needs_background": "light"
     },
     "output_type": "display_data"
    }
   ],
   "source": [
    "keys = OrderedDict(sorted(genres.items(), key=lambda t: t[1])).keys()\n",
    "\n",
    "plt.figure(figsize=(10,10))\n",
    "plot_confusion_matrix(cm, keys, normalize=True)"
   ]
  },
  {
   "cell_type": "markdown",
   "metadata": {},
   "source": [
    "## Majority Vote"
   ]
  },
  {
   "cell_type": "code",
   "execution_count": 23,
   "metadata": {},
   "outputs": [],
   "source": [
    "def majority_vote(scores):\n",
    "    values, counts = np.unique(scores,return_counts=True)\n",
    "    ind = np.argmax(counts)\n",
    "    return values[ind]"
   ]
  },
  {
   "cell_type": "code",
   "execution_count": 24,
   "metadata": {},
   "outputs": [],
   "source": [
    "preds = model.predict(X_test, batch_size=128, verbose=0)"
   ]
  },
  {
   "cell_type": "code",
   "execution_count": 25,
   "metadata": {},
   "outputs": [],
   "source": [
    "# Each sound was divided into 39 segments in our custom function\n",
    "scores_songs = np.split(np.argmax(preds, axis=1), 300)\n",
    "scores_songs = [majority_vote(scores) for scores in scores_songs]\n"
   ]
  },
  {
   "cell_type": "code",
   "execution_count": 26,
   "metadata": {},
   "outputs": [],
   "source": [
    "# Same analysis for split\n",
    "label = np.split(np.argmax(y_test, axis=1), 300)\n",
    "label = [majority_vote(l) for l in label]\n"
   ]
  },
  {
   "cell_type": "code",
   "execution_count": 27,
   "metadata": {},
   "outputs": [
    {
     "name": "stdout",
     "output_type": "stream",
     "text": [
      "majority voting system (acc) = 0.100\n"
     ]
    }
   ],
   "source": [
    "from sklearn.metrics import accuracy_score\n",
    "\n",
    "print(\"majority voting system (acc) = {:.3f}\".format(accuracy_score(label, scores_songs)))"
   ]
  }
 ],
 "metadata": {
  "kernelspec": {
   "display_name": "Python 3",
   "language": "python",
   "name": "python3"
  },
  "language_info": {
   "codemirror_mode": {
    "name": "ipython",
    "version": 3
   },
   "file_extension": ".py",
   "mimetype": "text/x-python",
   "name": "python",
   "nbconvert_exporter": "python",
   "pygments_lexer": "ipython3",
   "version": "3.8.2"
  }
 },
 "nbformat": 4,
 "nbformat_minor": 2
}

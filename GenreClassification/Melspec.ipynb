{
 "cells": [
  {
   "cell_type": "markdown",
   "metadata": {},
   "source": [
    "# Music Genre Classification on GTZAN using CNN"
   ]
  },
  {
   "cell_type": "markdown",
   "metadata": {},
   "source": [
    "### Here I have used melspectrogram as the feature extraction technique"
   ]
  },
  {
   "cell_type": "code",
   "execution_count": 1,
   "metadata": {},
   "outputs": [],
   "source": [
    "import os\n",
    "import h5py\n",
    "import librosa\n",
    "import itertools\n",
    "from copy import copy\n",
    "import numpy as np\n",
    "import matplotlib.pyplot as plt\n",
    "from collections import OrderedDict\n",
    "from sklearn.model_selection import train_test_split\n",
    "from sklearn.metrics import confusion_matrix\n",
    "\n"
   ]
  },
  {
   "cell_type": "code",
   "execution_count": 2,
   "metadata": {},
   "outputs": [],
   "source": [
    "import tensorflow as tf\n",
    "from tensorflow.keras.utils import to_categorical\n",
    "from tensorflow.keras.models import Model\n",
    "from tensorflow.keras.layers import Input\n",
    "from tensorflow.keras.models import Sequential\n",
    "from tensorflow.keras.layers import Add\n",
    "from tensorflow.keras.layers import Dense\n",
    "from tensorflow.keras.layers import Activation\n",
    "from tensorflow.keras.layers import PReLU\n",
    "from tensorflow.keras.layers import Conv2D\n",
    "from tensorflow.keras.layers import MaxPooling2D\n",
    "from tensorflow.keras.layers import AveragePooling2D\n",
    "from tensorflow.keras.layers import GlobalAveragePooling2D\n",
    "from tensorflow.keras.layers import GlobalMaxPooling2D\n",
    "from tensorflow.keras.layers import Dropout\n",
    "from tensorflow.keras.layers import Flatten\n",
    "from tensorflow.keras.layers import BatchNormalization\n",
    "from tensorflow.keras.callbacks import ReduceLROnPlateau"
   ]
  },
  {
   "cell_type": "code",
   "execution_count": 3,
   "metadata": {},
   "outputs": [],
   "source": [
    "# For reproducibility purposes\n",
    "np.random.seed(42)"
   ]
  },
  {
   "cell_type": "markdown",
   "metadata": {},
   "source": [
    "## Read Data"
   ]
  },
  {
   "cell_type": "code",
   "execution_count": 4,
   "metadata": {},
   "outputs": [],
   "source": [
    "\"\"\"\n",
    "@description: Method to split a song into multiple songs using overlapping windows\n",
    "\"\"\"\n",
    "def splitsongs(X, y, window = 0.05, overlap = 0.5):\n",
    "    # Empty lists to hold our results\n",
    "    temp_X = []\n",
    "    temp_y = []\n",
    "\n",
    "    # Get the input song array size\n",
    "    xshape = X.shape[0]\n",
    "    chunk = int(xshape*window)\n",
    "    offset = int(chunk*(1.-overlap))\n",
    "    \n",
    "    # Split the song and create new ones on windows\n",
    "    spsong = [X[i:i+chunk] for i in range(0, xshape - chunk + offset, offset)]\n",
    "    for s in spsong:\n",
    "        if s.shape[0] != chunk:\n",
    "            continue\n",
    "\n",
    "        temp_X.append(s)\n",
    "        temp_y.append(y)\n",
    "\n",
    "    return np.array(temp_X), np.array(temp_y)"
   ]
  },
  {
   "cell_type": "code",
   "execution_count": 5,
   "metadata": {},
   "outputs": [],
   "source": [
    "\"\"\"\n",
    "@description: Method to convert a list of songs to a np array of melspectrograms\n",
    "\"\"\"\n",
    "def to_melspectrogram(songs, n_fft=1024, hop_length=256):\n",
    "    # Transformation function\n",
    "    melspec = lambda x: librosa.feature.melspectrogram(x, n_fft=n_fft,\n",
    "        hop_length=hop_length, n_mels=128)[:,:,np.newaxis]\n",
    "\n",
    "    # map transformation of input songs to melspectrogram using log-scale\n",
    "    tsongs = map(melspec, songs)\n",
    "    # np.array([librosa.power_to_db(s, ref=np.max) for s in list(tsongs)])\n",
    "    return np.array(list(tsongs))"
   ]
  },
  {
   "cell_type": "code",
   "execution_count": 6,
   "metadata": {},
   "outputs": [],
   "source": [
    "def split_convert(X, y):\n",
    "    arr_specs, arr_genres = [], []\n",
    "    \n",
    "    # Convert to spectrograms and split into small windows\n",
    "    for fn, genre in zip(X, y):\n",
    "        signal, sr = librosa.load(fn)\n",
    "        signal = signal[:song_samples]\n",
    "\n",
    "        # Convert to dataset of spectograms/melspectograms\n",
    "        signals, y = splitsongs(signal, genre)\n",
    "\n",
    "        # Convert to \"spec\" representation\n",
    "        specs = to_melspectrogram(signals)\n",
    "\n",
    "        # Save files\n",
    "        arr_genres.extend(y)\n",
    "        arr_specs.extend(specs)\n",
    "    \n",
    "    return np.array(arr_specs), to_categorical(arr_genres)\n"
   ]
  },
  {
   "cell_type": "code",
   "execution_count": 7,
   "metadata": {},
   "outputs": [],
   "source": [
    "def read_data(src_dir, genres, song_samples):    \n",
    "    # Empty array of dicts with the processed features from all files\n",
    "    arr_fn = []\n",
    "    arr_genres = []\n",
    "\n",
    "    # Get file list from the folders\n",
    "    for x,_ in genres.items():\n",
    "        folder = src_dir + x\n",
    "        for root, subdirs, files in os.walk(folder):\n",
    "            for file in files:\n",
    "                file_name = folder + \"/\" + file\n",
    "\n",
    "                # Save the file name and the genre\n",
    "                arr_fn.append(file_name)\n",
    "                arr_genres.append(genres[x])\n",
    "    \n",
    "    # Split into train and test\n",
    "    X_train, X_test, y_train, y_test = train_test_split(\n",
    "        arr_fn, arr_genres, test_size=0.3, random_state=42, stratify=arr_genres\n",
    "    )\n",
    "    \n",
    "    # Split into small segments and convert to spectrogram\n",
    "    X_train, y_train = split_convert(X_train, y_train)\n",
    "    X_test, y_test = split_convert(X_test, y_test)\n",
    "\n",
    "    return X_train, X_test, y_train, y_test"
   ]
  },
  {
   "cell_type": "code",
   "execution_count": 8,
   "metadata": {},
   "outputs": [],
   "source": [
    "#Parameters\n",
    "gtzan_dir = './genres/'\n",
    "song_samples = 660000\n",
    "genres = {'metal': 0, 'disco': 1, 'classical': 2, 'hiphop': 3, 'jazz': 4, \n",
    "          'country': 5, 'pop': 6, 'blues': 7, 'reggae': 8, 'rock': 9}\n",
    "\n",
    "# Read the data\n",
    "X_train, X_test, y_train, y_test = read_data(gtzan_dir, genres, song_samples)\n"
   ]
  },
  {
   "cell_type": "code",
   "execution_count": 9,
   "metadata": {},
   "outputs": [
    {
     "name": "stdout",
     "output_type": "stream",
     "text": [
      "(27300, 128, 129, 1) (11700, 128, 129, 1) (27300, 10) (11700, 10)\n"
     ]
    }
   ],
   "source": [
    "print(X_train.shape, X_test.shape, y_train.shape, y_test.shape)"
   ]
  },
  {
   "cell_type": "code",
   "execution_count": 10,
   "metadata": {},
   "outputs": [
    {
     "data": {
      "image/png": "[encoded data removed]",
      "text/plain": [
       "<Figure size 432x288 with 1 Axes>"
      ]
     },
     "metadata": {
      "needs_background": "light"
     },
     "output_type": "display_data"
    }
   ],
   "source": [
    "# Histogram for train and test \n",
    "values, count = np.unique(np.argmax(y_train, axis=1), return_counts=True)\n",
    "plt.bar(values, count)\n",
    "\n",
    "values, count = np.unique(np.argmax(y_test, axis=1), return_counts=True)\n",
    "plt.bar(values, count)\n",
    "plt.show()\n",
    "\n"
   ]
  },
  {
   "cell_type": "markdown",
   "metadata": {},
   "source": [
    "## GTZAN MFCC Generator"
   ]
  },
  {
   "cell_type": "code",
   "execution_count": 11,
   "metadata": {},
   "outputs": [],
   "source": [
    "from tensorflow.keras.utils import Sequence\n",
    "\n",
    "class GTZANGenerator(Sequence):\n",
    "    def __init__(self, X, y, batch_size=64, is_test = False):\n",
    "        self.X = X\n",
    "        self.y = y\n",
    "        self.batch_size = batch_size\n",
    "        self.is_test = is_test\n",
    "    \n",
    "    def __len__(self):\n",
    "        return int(np.ceil(len(self.X)/self.batch_size))\n",
    "    \n",
    "    def __getitem__(self, index):\n",
    "        # Get batch indexes\n",
    "        signals = self.X[index*self.batch_size:(index+1)*self.batch_size]\n",
    "\n",
    "        # Apply data augmentation\n",
    "        if not self.is_test:\n",
    "            signals = self.__augment(signals)\n",
    "        return signals, self.y[index*self.batch_size:(index+1)*self.batch_size]\n",
    "    \n",
    "    def __augment(self, signals, hor_flip = 0.5, random_cutout = 0.5):\n",
    "        spectrograms =  []\n",
    "        for s in signals:\n",
    "            signal = copy(s)\n",
    "            \n",
    "            # Perform horizontal flip\n",
    "            if np.random.rand() < hor_flip:\n",
    "                signal = np.flip(signal, 1)\n",
    "\n",
    "            # Perform random cutoout of some frequency/time\n",
    "            if np.random.rand() < random_cutout:\n",
    "                lines = np.random.randint(signal.shape[0], size=3)\n",
    "                cols = np.random.randint(signal.shape[0], size=4)\n",
    "                signal[lines, :, :] = -80 # dB\n",
    "                signal[:, cols, :] = -80 # dB\n",
    "\n",
    "            spectrograms.append(signal)\n",
    "        return np.array(spectrograms)\n",
    "    \n",
    "    def on_epoch_end(self):\n",
    "        self.indexes = np.arange(len(self.X))\n",
    "        np.random.shuffle(self.indexes)\n",
    "        return None"
   ]
  },
  {
   "cell_type": "markdown",
   "metadata": {},
   "source": [
    "## Custom CNN (Melspectrogram version)"
   ]
  },
  {
   "cell_type": "code",
   "execution_count": 12,
   "metadata": {},
   "outputs": [],
   "source": [
    "def conv_block(x, n_filters, pool_size=(2, 2)):\n",
    "    x = Conv2D(n_filters, (3, 3), strides=(1, 1), padding='same')(x)\n",
    "    x = Activation('relu')(x)\n",
    "    x = MaxPooling2D(pool_size=pool_size, strides=pool_size)(x)\n",
    "    x = Dropout(0.25)(x)\n",
    "    return x"
   ]
  },
  {
   "cell_type": "code",
   "execution_count": 13,
   "metadata": {},
   "outputs": [],
   "source": [
    "# Model Definition\n",
    "def create_model(input_shape, num_genres):\n",
    "    inpt = Input(shape=input_shape)\n",
    "    x = conv_block(inpt, 16)\n",
    "    x = conv_block(x, 32)\n",
    "    x = conv_block(x, 64)\n",
    "    x = conv_block(x, 128)\n",
    "    x = conv_block(x, 256)\n",
    "    \n",
    "    # Global Pooling and MLP\n",
    "    x = Flatten()(x)\n",
    "    x = Dropout(0.5)(x)\n",
    "    x = Dense(512, activation='relu', \n",
    "              kernel_regularizer=tf.keras.regularizers.l2(0.02))(x)\n",
    "    x = Dropout(0.25)(x)\n",
    "    predictions = Dense(num_genres, \n",
    "                        activation='softmax', \n",
    "                        kernel_regularizer=tf.keras.regularizers.l2(0.02))(x)\n",
    "    \n",
    "    model = Model(inputs=inpt, outputs=predictions)\n",
    "    return model\n"
   ]
  },
  {
   "cell_type": "code",
   "execution_count": 14,
   "metadata": {},
   "outputs": [],
   "source": [
    "model = create_model(X_train[0].shape, 10)"
   ]
  },
  {
   "cell_type": "code",
   "execution_count": 15,
   "metadata": {},
   "outputs": [
    {
     "name": "stdout",
     "output_type": "stream",
     "text": [
      "Model: \"model\"\n",
      "_________________________________________________________________\n",
      "Layer (type)                 Output Shape              Param #   \n",
      "=================================================================\n",
      "input_1 (InputLayer)         [(None, 128, 129, 1)]     0         \n",
      "_________________________________________________________________\n",
      "conv2d (Conv2D)              (None, 128, 129, 16)      160       \n",
      "_________________________________________________________________\n",
      "activation (Activation)      (None, 128, 129, 16)      0         \n",
      "_________________________________________________________________\n",
      "max_pooling2d (MaxPooling2D) (None, 64, 64, 16)        0         \n",
      "_________________________________________________________________\n",
      "dropout (Dropout)            (None, 64, 64, 16)        0         \n",
      "_________________________________________________________________\n",
      "conv2d_1 (Conv2D)            (None, 64, 64, 32)        4640      \n",
      "_________________________________________________________________\n",
      "activation_1 (Activation)    (None, 64, 64, 32)        0         \n",
      "_________________________________________________________________\n",
      "max_pooling2d_1 (MaxPooling2 (None, 32, 32, 32)        0         \n",
      "_________________________________________________________________\n",
      "dropout_1 (Dropout)          (None, 32, 32, 32)        0         \n",
      "_________________________________________________________________\n",
      "conv2d_2 (Conv2D)            (None, 32, 32, 64)        18496     \n",
      "_________________________________________________________________\n",
      "activation_2 (Activation)    (None, 32, 32, 64)        0         \n",
      "_________________________________________________________________\n",
      "max_pooling2d_2 (MaxPooling2 (None, 16, 16, 64)        0         \n",
      "_________________________________________________________________\n",
      "dropout_2 (Dropout)          (None, 16, 16, 64)        0         \n",
      "_________________________________________________________________\n",
      "conv2d_3 (Conv2D)            (None, 16, 16, 128)       73856     \n",
      "_________________________________________________________________\n",
      "activation_3 (Activation)    (None, 16, 16, 128)       0         \n",
      "_________________________________________________________________\n",
      "max_pooling2d_3 (MaxPooling2 (None, 8, 8, 128)         0         \n",
      "_________________________________________________________________\n",
      "dropout_3 (Dropout)          (None, 8, 8, 128)         0         \n",
      "_________________________________________________________________\n",
      "conv2d_4 (Conv2D)            (None, 8, 8, 256)         295168    \n",
      "_________________________________________________________________\n",
      "activation_4 (Activation)    (None, 8, 8, 256)         0         \n",
      "_________________________________________________________________\n",
      "max_pooling2d_4 (MaxPooling2 (None, 4, 4, 256)         0         \n",
      "_________________________________________________________________\n",
      "dropout_4 (Dropout)          (None, 4, 4, 256)         0         \n",
      "_________________________________________________________________\n",
      "flatten (Flatten)            (None, 4096)              0         \n",
      "_________________________________________________________________\n",
      "dropout_5 (Dropout)          (None, 4096)              0         \n",
      "_________________________________________________________________\n",
      "dense (Dense)                (None, 512)               2097664   \n",
      "_________________________________________________________________\n",
      "dropout_6 (Dropout)          (None, 512)               0         \n",
      "_________________________________________________________________\n",
      "dense_1 (Dense)              (None, 10)                5130      \n",
      "=================================================================\n",
      "Total params: 2,495,114\n",
      "Trainable params: 2,495,114\n",
      "Non-trainable params: 0\n",
      "_________________________________________________________________\n"
     ]
    }
   ],
   "source": [
    "model.summary()\n"
   ]
  },
  {
   "cell_type": "markdown",
   "metadata": {},
   "source": [
    "## Loss Function"
   ]
  },
  {
   "cell_type": "code",
   "execution_count": 16,
   "metadata": {},
   "outputs": [],
   "source": [
    "model.compile(loss=tf.keras.losses.categorical_crossentropy,\n",
    "              optimizer=tf.keras.optimizers.Adam(),\n",
    "              metrics=['accuracy'])"
   ]
  },
  {
   "cell_type": "code",
   "execution_count": 17,
   "metadata": {},
   "outputs": [],
   "source": [
    "reduceLROnPlat = ReduceLROnPlateau(\n",
    "    monitor='val_loss', \n",
    "    factor=0.95,\n",
    "    patience=3,\n",
    "    verbose=1,\n",
    "    mode='min',\n",
    "    min_delta=0.0001,\n",
    "    cooldown=2,\n",
    "    min_lr=1e-5\n",
    ")"
   ]
  },
  {
   "cell_type": "code",
   "execution_count": 18,
   "metadata": {},
   "outputs": [],
   "source": [
    "# Generators\n",
    "batch_size = 128\n",
    "train_generator = GTZANGenerator(X_train, y_train)\n",
    "steps_per_epoch = np.ceil(len(X_train)/batch_size)\n",
    "\n",
    "validation_generator = GTZANGenerator(X_test, y_test)\n",
    "val_steps = np.ceil(len(X_test)/batch_size)\n"
   ]
  },
  {
   "cell_type": "code",
   "execution_count": 19,
   "metadata": {},
   "outputs": [
    {
     "name": "stdout",
     "output_type": "stream",
     "text": [
      "WARNING:tensorflow:From <ipython-input-19-c619abd23725>:1: Model.fit_generator (from tensorflow.python.keras.engine.training) is deprecated and will be removed in a future version.\n",
      "Instructions for updating:\n",
      "Please use Model.fit, which supports generators.\n",
      "Epoch 1/150\n",
      "214/214 [==============================] - 108s 504ms/step - loss: 11.8804 - accuracy: 0.1190 - val_loss: 5.8489 - val_accuracy: 0.1537 - lr: 0.0010\n",
      "Epoch 2/150\n",
      "214/214 [==============================] - 109s 508ms/step - loss: 4.2175 - accuracy: 0.1423 - val_loss: 3.1978 - val_accuracy: 0.2038 - lr: 0.0010\n",
      "Epoch 3/150\n",
      "214/214 [==============================] - 112s 525ms/step - loss: 2.8426 - accuracy: 0.1619 - val_loss: 2.6076 - val_accuracy: 0.1571 - lr: 0.0010\n",
      "Epoch 4/150\n",
      "214/214 [==============================] - 111s 518ms/step - loss: 2.4593 - accuracy: 0.1983 - val_loss: 2.2820 - val_accuracy: 0.2169 - lr: 0.0010\n",
      "Epoch 5/150\n",
      "214/214 [==============================] - 111s 517ms/step - loss: 2.3030 - accuracy: 0.1882 - val_loss: 2.1909 - val_accuracy: 0.2174 - lr: 0.0010\n",
      "Epoch 6/150\n",
      "214/214 [==============================] - 114s 531ms/step - loss: 2.2073 - accuracy: 0.2020 - val_loss: 2.1518 - val_accuracy: 0.2405 - lr: 0.0010\n",
      "Epoch 7/150\n",
      "214/214 [==============================] - 115s 538ms/step - loss: 2.1767 - accuracy: 0.2065 - val_loss: 2.1224 - val_accuracy: 0.2203 - lr: 0.0010\n",
      "Epoch 8/150\n",
      "214/214 [==============================] - 115s 536ms/step - loss: 2.1059 - accuracy: 0.2385 - val_loss: 2.0930 - val_accuracy: 0.2323 - lr: 0.0010\n",
      "Epoch 9/150\n",
      "214/214 [==============================] - 116s 540ms/step - loss: 2.0654 - accuracy: 0.2396 - val_loss: 2.1123 - val_accuracy: 0.1870 - lr: 0.0010\n",
      "Epoch 10/150\n",
      "214/214 [==============================] - 112s 522ms/step - loss: 2.0495 - accuracy: 0.2338 - val_loss: 2.0489 - val_accuracy: 0.2559 - lr: 0.0010\n",
      "Epoch 11/150\n",
      "214/214 [==============================] - 114s 533ms/step - loss: 2.0387 - accuracy: 0.2418 - val_loss: 2.0102 - val_accuracy: 0.2807 - lr: 0.0010\n",
      "Epoch 12/150\n",
      "214/214 [==============================] - 113s 528ms/step - loss: 2.0126 - accuracy: 0.2381 - val_loss: 2.0578 - val_accuracy: 0.2563 - lr: 0.0010\n",
      "Epoch 13/150\n",
      "214/214 [==============================] - 116s 541ms/step - loss: 1.9945 - accuracy: 0.2466 - val_loss: 1.9854 - val_accuracy: 0.2955 - lr: 0.0010\n",
      "Epoch 14/150\n",
      "214/214 [==============================] - 113s 530ms/step - loss: 2.0221 - accuracy: 0.2466 - val_loss: 1.9757 - val_accuracy: 0.3021 - lr: 0.0010\n",
      "Epoch 15/150\n",
      "214/214 [==============================] - 110s 515ms/step - loss: 1.9721 - accuracy: 0.2522 - val_loss: 1.9669 - val_accuracy: 0.3184 - lr: 0.0010\n",
      "Epoch 16/150\n",
      "214/214 [==============================] - 112s 524ms/step - loss: 1.9228 - accuracy: 0.2721 - val_loss: 1.9307 - val_accuracy: 0.3013 - lr: 0.0010\n",
      "Epoch 17/150\n",
      "214/214 [==============================] - 111s 520ms/step - loss: 1.9782 - accuracy: 0.2860 - val_loss: 1.9436 - val_accuracy: 0.3003 - lr: 0.0010\n",
      "Epoch 18/150\n",
      "214/214 [==============================] - 126s 588ms/step - loss: 1.9281 - accuracy: 0.2690 - val_loss: 1.9986 - val_accuracy: 0.2296 - lr: 0.0010\n",
      "Epoch 19/150\n",
      "214/214 [==============================] - 118s 554ms/step - loss: 1.9507 - accuracy: 0.2721 - val_loss: 1.8799 - val_accuracy: 0.3256 - lr: 0.0010\n",
      "Epoch 20/150\n",
      "214/214 [==============================] - 117s 548ms/step - loss: 1.8813 - accuracy: 0.3011 - val_loss: 1.8895 - val_accuracy: 0.3237 - lr: 0.0010\n",
      "Epoch 21/150\n",
      "214/214 [==============================] - 111s 516ms/step - loss: 1.9197 - accuracy: 0.2838 - val_loss: 1.8782 - val_accuracy: 0.3220 - lr: 0.0010\n",
      "Epoch 22/150\n",
      "214/214 [==============================] - 110s 515ms/step - loss: 1.9034 - accuracy: 0.3057 - val_loss: 1.9380 - val_accuracy: 0.2863 - lr: 0.0010\n",
      "Epoch 23/150\n",
      "214/214 [==============================] - 116s 540ms/step - loss: 1.8680 - accuracy: 0.3292 - val_loss: 1.9120 - val_accuracy: 0.2943 - lr: 0.0010\n",
      "Epoch 24/150\n",
      "214/214 [==============================] - 111s 521ms/step - loss: 1.8582 - accuracy: 0.3341 - val_loss: 1.8267 - val_accuracy: 0.3555 - lr: 0.0010\n",
      "Epoch 25/150\n",
      "214/214 [==============================] - 113s 530ms/step - loss: 1.8676 - accuracy: 0.3207 - val_loss: 1.8305 - val_accuracy: 0.3619 - lr: 0.0010\n",
      "Epoch 26/150\n",
      "214/214 [==============================] - 114s 533ms/step - loss: 1.8161 - accuracy: 0.3354 - val_loss: 1.8523 - val_accuracy: 0.3480 - lr: 0.0010\n",
      "Epoch 27/150\n",
      "214/214 [==============================] - ETA: 0s - loss: 1.8564 - accuracy: 0.3004\n",
      "Epoch 00027: ReduceLROnPlateau reducing learning rate to 0.0009500000451225787.\n",
      "214/214 [==============================] - 121s 568ms/step - loss: 1.8564 - accuracy: 0.3004 - val_loss: 2.0165 - val_accuracy: 0.3122 - lr: 0.0010\n",
      "Epoch 28/150\n",
      "214/214 [==============================] - 114s 533ms/step - loss: 1.8130 - accuracy: 0.3587 - val_loss: 1.7368 - val_accuracy: 0.4237 - lr: 9.5000e-04\n",
      "Epoch 29/150\n",
      "214/214 [==============================] - 115s 537ms/step - loss: 1.8315 - accuracy: 0.3319 - val_loss: 1.7787 - val_accuracy: 0.4017 - lr: 9.5000e-04\n",
      "Epoch 30/150\n",
      "214/214 [==============================] - 112s 524ms/step - loss: 1.7921 - accuracy: 0.3445 - val_loss: 1.7204 - val_accuracy: 0.3867 - lr: 9.5000e-04\n",
      "Epoch 31/150\n",
      "214/214 [==============================] - 112s 525ms/step - loss: 1.8348 - accuracy: 0.3374 - val_loss: 1.7800 - val_accuracy: 0.4270 - lr: 9.5000e-04\n",
      "Epoch 32/150\n",
      "214/214 [==============================] - 114s 533ms/step - loss: 1.7496 - accuracy: 0.3632 - val_loss: 1.7912 - val_accuracy: 0.4100 - lr: 9.5000e-04\n",
      "Epoch 33/150\n",
      "214/214 [==============================] - ETA: 0s - loss: 1.7683 - accuracy: 0.3591\n",
      "Epoch 00033: ReduceLROnPlateau reducing learning rate to 0.0009025000152178108.\n",
      "214/214 [==============================] - 115s 539ms/step - loss: 1.7683 - accuracy: 0.3591 - val_loss: 1.8038 - val_accuracy: 0.4127 - lr: 9.5000e-04\n",
      "Epoch 34/150\n",
      "214/214 [==============================] - 113s 530ms/step - loss: 1.7617 - accuracy: 0.3663 - val_loss: 1.6839 - val_accuracy: 0.4463 - lr: 9.0250e-04\n",
      "Epoch 35/150\n",
      "214/214 [==============================] - 114s 533ms/step - loss: 1.7521 - accuracy: 0.3787 - val_loss: 1.8471 - val_accuracy: 0.3709 - lr: 9.0250e-04\n",
      "Epoch 36/150\n",
      "214/214 [==============================] - 114s 532ms/step - loss: 1.7368 - accuracy: 0.3700 - val_loss: 1.6397 - val_accuracy: 0.4375 - lr: 9.0250e-04\n",
      "Epoch 37/150\n",
      "214/214 [==============================] - 113s 527ms/step - loss: 1.6889 - accuracy: 0.3900 - val_loss: 1.6752 - val_accuracy: 0.4214 - lr: 9.0250e-04\n",
      "Epoch 38/150\n",
      "214/214 [==============================] - 112s 521ms/step - loss: 1.6976 - accuracy: 0.3927 - val_loss: 1.6233 - val_accuracy: 0.4297 - lr: 9.0250e-04\n",
      "Epoch 39/150\n",
      "214/214 [==============================] - 114s 531ms/step - loss: 1.7090 - accuracy: 0.3867 - val_loss: 1.5973 - val_accuracy: 0.4260 - lr: 9.0250e-04\n",
      "Epoch 40/150\n",
      "214/214 [==============================] - 113s 529ms/step - loss: 1.7080 - accuracy: 0.4088 - val_loss: 1.6707 - val_accuracy: 0.4535 - lr: 9.0250e-04\n",
      "Epoch 41/150\n",
      "214/214 [==============================] - 111s 521ms/step - loss: 1.6480 - accuracy: 0.4329 - val_loss: 1.5916 - val_accuracy: 0.4482 - lr: 9.0250e-04\n",
      "Epoch 42/150\n",
      "214/214 [==============================] - 111s 518ms/step - loss: 1.6258 - accuracy: 0.4317 - val_loss: 1.6003 - val_accuracy: 0.4577 - lr: 9.0250e-04\n",
      "Epoch 43/150\n",
      "214/214 [==============================] - 112s 525ms/step - loss: 1.6156 - accuracy: 0.4222 - val_loss: 1.5517 - val_accuracy: 0.4711 - lr: 9.0250e-04\n",
      "Epoch 44/150\n",
      "214/214 [==============================] - 122s 569ms/step - loss: 1.6591 - accuracy: 0.3961 - val_loss: 1.6906 - val_accuracy: 0.4227 - lr: 9.0250e-04\n",
      "Epoch 45/150\n",
      "214/214 [==============================] - 120s 562ms/step - loss: 1.6807 - accuracy: 0.4043 - val_loss: 1.5171 - val_accuracy: 0.4761 - lr: 9.0250e-04\n",
      "Epoch 46/150\n",
      "214/214 [==============================] - 128s 596ms/step - loss: 1.5862 - accuracy: 0.4448 - val_loss: 1.6477 - val_accuracy: 0.4586 - lr: 9.0250e-04\n",
      "Epoch 47/150\n",
      "214/214 [==============================] - 127s 591ms/step - loss: 1.5681 - accuracy: 0.4524 - val_loss: 1.4947 - val_accuracy: 0.5010 - lr: 9.0250e-04\n"
     ]
    },
    {
     "name": "stdout",
     "output_type": "stream",
     "text": [
      "Epoch 48/150\n",
      "214/214 [==============================] - 118s 549ms/step - loss: 1.5876 - accuracy: 0.4369 - val_loss: 1.5843 - val_accuracy: 0.4151 - lr: 9.0250e-04\n",
      "Epoch 49/150\n",
      "214/214 [==============================] - 110s 516ms/step - loss: 1.5384 - accuracy: 0.4537 - val_loss: 1.4726 - val_accuracy: 0.5114 - lr: 9.0250e-04\n",
      "Epoch 50/150\n",
      "214/214 [==============================] - 110s 516ms/step - loss: 1.6034 - accuracy: 0.4301 - val_loss: 1.5638 - val_accuracy: 0.4725 - lr: 9.0250e-04\n",
      "Epoch 51/150\n",
      "214/214 [==============================] - 110s 515ms/step - loss: 1.5448 - accuracy: 0.4589 - val_loss: 1.5631 - val_accuracy: 0.4567 - lr: 9.0250e-04\n",
      "Epoch 52/150\n",
      "214/214 [==============================] - ETA: 0s - loss: 1.5555 - accuracy: 0.4678\n",
      "Epoch 00052: ReduceLROnPlateau reducing learning rate to 0.0008573750033974647.\n",
      "214/214 [==============================] - 110s 516ms/step - loss: 1.5555 - accuracy: 0.4678 - val_loss: 1.6020 - val_accuracy: 0.4839 - lr: 9.0250e-04\n",
      "Epoch 53/150\n",
      "214/214 [==============================] - 110s 515ms/step - loss: 1.5615 - accuracy: 0.4599 - val_loss: 1.4362 - val_accuracy: 0.5459 - lr: 8.5737e-04\n",
      "Epoch 54/150\n",
      "214/214 [==============================] - 110s 513ms/step - loss: 1.5669 - accuracy: 0.4584 - val_loss: 1.4686 - val_accuracy: 0.5297 - lr: 8.5737e-04\n",
      "Epoch 55/150\n",
      "214/214 [==============================] - 110s 512ms/step - loss: 1.5134 - accuracy: 0.4807 - val_loss: 1.5292 - val_accuracy: 0.4621 - lr: 8.5737e-04\n",
      "Epoch 56/150\n",
      "214/214 [==============================] - ETA: 0s - loss: 1.5431 - accuracy: 0.4774\n",
      "Epoch 00056: ReduceLROnPlateau reducing learning rate to 0.0008145062311086804.\n",
      "214/214 [==============================] - 110s 513ms/step - loss: 1.5431 - accuracy: 0.4774 - val_loss: 1.5458 - val_accuracy: 0.4900 - lr: 8.5737e-04\n",
      "Epoch 57/150\n",
      "214/214 [==============================] - 110s 514ms/step - loss: 1.5024 - accuracy: 0.4874 - val_loss: 1.4490 - val_accuracy: 0.5236 - lr: 8.1451e-04\n",
      "Epoch 58/150\n",
      "214/214 [==============================] - 110s 513ms/step - loss: 1.4851 - accuracy: 0.5048 - val_loss: 1.4928 - val_accuracy: 0.4886 - lr: 8.1451e-04\n",
      "Epoch 59/150\n",
      "214/214 [==============================] - 110s 514ms/step - loss: 1.4838 - accuracy: 0.5039 - val_loss: 1.4231 - val_accuracy: 0.5212 - lr: 8.1451e-04\n",
      "Epoch 60/150\n",
      "214/214 [==============================] - 110s 513ms/step - loss: 1.4650 - accuracy: 0.5213 - val_loss: 1.4659 - val_accuracy: 0.5129 - lr: 8.1451e-04\n",
      "Epoch 61/150\n",
      "214/214 [==============================] - 110s 512ms/step - loss: 1.4698 - accuracy: 0.4997 - val_loss: 1.4882 - val_accuracy: 0.5100 - lr: 8.1451e-04\n",
      "Epoch 62/150\n",
      "214/214 [==============================] - ETA: 0s - loss: 1.4137 - accuracy: 0.5240\n",
      "Epoch 00062: ReduceLROnPlateau reducing learning rate to 0.0007737808919046074.\n",
      "214/214 [==============================] - 110s 512ms/step - loss: 1.4137 - accuracy: 0.5240 - val_loss: 1.5675 - val_accuracy: 0.4723 - lr: 8.1451e-04\n",
      "Epoch 63/150\n",
      "214/214 [==============================] - 110s 512ms/step - loss: 1.4469 - accuracy: 0.5162 - val_loss: 1.4624 - val_accuracy: 0.5238 - lr: 7.7378e-04\n",
      "Epoch 64/150\n",
      "214/214 [==============================] - 110s 512ms/step - loss: 1.4374 - accuracy: 0.5230 - val_loss: 1.3622 - val_accuracy: 0.5870 - lr: 7.7378e-04\n",
      "Epoch 65/150\n",
      "214/214 [==============================] - 110s 512ms/step - loss: 1.4289 - accuracy: 0.5135 - val_loss: 1.4232 - val_accuracy: 0.5425 - lr: 7.7378e-04\n",
      "Epoch 66/150\n",
      "214/214 [==============================] - 110s 512ms/step - loss: 1.4241 - accuracy: 0.5397 - val_loss: 1.4112 - val_accuracy: 0.5679 - lr: 7.7378e-04\n",
      "Epoch 67/150\n",
      "214/214 [==============================] - ETA: 0s - loss: 1.4215 - accuracy: 0.5375\n",
      "Epoch 00067: ReduceLROnPlateau reducing learning rate to 0.000735091819660738.\n",
      "214/214 [==============================] - 110s 513ms/step - loss: 1.4215 - accuracy: 0.5375 - val_loss: 1.4341 - val_accuracy: 0.4849 - lr: 7.7378e-04\n",
      "Epoch 68/150\n",
      "214/214 [==============================] - 110s 513ms/step - loss: 1.3571 - accuracy: 0.5661 - val_loss: 1.3586 - val_accuracy: 0.5674 - lr: 7.3509e-04\n",
      "Epoch 69/150\n",
      "214/214 [==============================] - 110s 513ms/step - loss: 1.3940 - accuracy: 0.5461 - val_loss: 1.3399 - val_accuracy: 0.6011 - lr: 7.3509e-04\n",
      "Epoch 70/150\n",
      "214/214 [==============================] - 110s 514ms/step - loss: 1.3376 - accuracy: 0.5556 - val_loss: 1.5239 - val_accuracy: 0.4759 - lr: 7.3509e-04\n",
      "Epoch 71/150\n",
      "214/214 [==============================] - 110s 513ms/step - loss: 1.3946 - accuracy: 0.5423 - val_loss: 1.3104 - val_accuracy: 0.5902 - lr: 7.3509e-04\n",
      "Epoch 72/150\n",
      "214/214 [==============================] - 110s 512ms/step - loss: 1.3401 - accuracy: 0.5684 - val_loss: 1.3572 - val_accuracy: 0.5600 - lr: 7.3509e-04\n",
      "Epoch 73/150\n",
      "214/214 [==============================] - 110s 512ms/step - loss: 1.3951 - accuracy: 0.5413 - val_loss: 1.3022 - val_accuracy: 0.6082 - lr: 7.3509e-04\n",
      "Epoch 74/150\n",
      "214/214 [==============================] - 110s 512ms/step - loss: 1.3460 - accuracy: 0.5564 - val_loss: 1.3002 - val_accuracy: 0.6061 - lr: 7.3509e-04\n",
      "Epoch 75/150\n",
      "214/214 [==============================] - 110s 512ms/step - loss: 1.3555 - accuracy: 0.5528 - val_loss: 1.3406 - val_accuracy: 0.5718 - lr: 7.3509e-04\n",
      "Epoch 76/150\n",
      "214/214 [==============================] - 110s 513ms/step - loss: 1.3398 - accuracy: 0.5655 - val_loss: 1.2713 - val_accuracy: 0.6082 - lr: 7.3509e-04\n",
      "Epoch 77/150\n",
      "214/214 [==============================] - 110s 514ms/step - loss: 1.3365 - accuracy: 0.5632 - val_loss: 1.3118 - val_accuracy: 0.5914 - lr: 7.3509e-04\n",
      "Epoch 78/150\n",
      "214/214 [==============================] - 110s 513ms/step - loss: 1.3542 - accuracy: 0.5635 - val_loss: 1.4792 - val_accuracy: 0.5284 - lr: 7.3509e-04\n",
      "Epoch 79/150\n",
      "214/214 [==============================] - ETA: 0s - loss: 1.3280 - accuracy: 0.5711\n",
      "Epoch 00079: ReduceLROnPlateau reducing learning rate to 0.0006983372120885178.\n",
      "214/214 [==============================] - 110s 514ms/step - loss: 1.3280 - accuracy: 0.5711 - val_loss: 1.2969 - val_accuracy: 0.6065 - lr: 7.3509e-04\n",
      "Epoch 80/150\n",
      "214/214 [==============================] - 110s 513ms/step - loss: 1.2949 - accuracy: 0.5906 - val_loss: 1.2504 - val_accuracy: 0.6029 - lr: 6.9834e-04\n",
      "Epoch 81/150\n",
      "214/214 [==============================] - 110s 514ms/step - loss: 1.2916 - accuracy: 0.5836 - val_loss: 1.2144 - val_accuracy: 0.6146 - lr: 6.9834e-04\n",
      "Epoch 82/150\n",
      "214/214 [==============================] - 110s 512ms/step - loss: 1.2573 - accuracy: 0.5958 - val_loss: 1.3113 - val_accuracy: 0.6051 - lr: 6.9834e-04\n",
      "Epoch 83/150\n",
      "214/214 [==============================] - 110s 513ms/step - loss: 1.2565 - accuracy: 0.6013 - val_loss: 1.2960 - val_accuracy: 0.5812 - lr: 6.9834e-04\n",
      "Epoch 84/150\n",
      "214/214 [==============================] - ETA: 0s - loss: 1.2661 - accuracy: 0.6038\n",
      "Epoch 00084: ReduceLROnPlateau reducing learning rate to 0.0006634203542489559.\n",
      "214/214 [==============================] - 110s 513ms/step - loss: 1.2661 - accuracy: 0.6038 - val_loss: 1.2418 - val_accuracy: 0.6294 - lr: 6.9834e-04\n",
      "Epoch 85/150\n",
      "214/214 [==============================] - 110s 512ms/step - loss: 1.1816 - accuracy: 0.6325 - val_loss: 1.2464 - val_accuracy: 0.6099 - lr: 6.6342e-04\n",
      "Epoch 86/150\n",
      "214/214 [==============================] - 115s 536ms/step - loss: 1.2422 - accuracy: 0.6061 - val_loss: 1.2169 - val_accuracy: 0.6415 - lr: 6.6342e-04\n",
      "Epoch 87/150\n",
      "214/214 [==============================] - 111s 516ms/step - loss: 1.1808 - accuracy: 0.6333 - val_loss: 1.2510 - val_accuracy: 0.6155 - lr: 6.6342e-04\n",
      "Epoch 88/150\n",
      "214/214 [==============================] - ETA: 0s - loss: 1.2572 - accuracy: 0.6058\n",
      "Epoch 00088: ReduceLROnPlateau reducing learning rate to 0.0006302493420662358.\n",
      "214/214 [==============================] - 110s 515ms/step - loss: 1.2572 - accuracy: 0.6058 - val_loss: 1.2528 - val_accuracy: 0.6228 - lr: 6.6342e-04\n",
      "Epoch 89/150\n",
      "214/214 [==============================] - 111s 517ms/step - loss: 1.2143 - accuracy: 0.6277 - val_loss: 1.2417 - val_accuracy: 0.6230 - lr: 6.3025e-04\n",
      "Epoch 90/150\n",
      "214/214 [==============================] - 110s 516ms/step - loss: 1.1590 - accuracy: 0.6398 - val_loss: 1.1904 - val_accuracy: 0.6282 - lr: 6.3025e-04\n"
     ]
    },
    {
     "name": "stdout",
     "output_type": "stream",
     "text": [
      "Epoch 91/150\n",
      "214/214 [==============================] - 110s 516ms/step - loss: 1.1907 - accuracy: 0.6254 - val_loss: 1.1932 - val_accuracy: 0.6503 - lr: 6.3025e-04\n",
      "Epoch 92/150\n",
      "214/214 [==============================] - 110s 515ms/step - loss: 1.2347 - accuracy: 0.6128 - val_loss: 1.2034 - val_accuracy: 0.6349 - lr: 6.3025e-04\n",
      "Epoch 93/150\n",
      "214/214 [==============================] - ETA: 0s - loss: 1.1713 - accuracy: 0.6250\n",
      "Epoch 00093: ReduceLROnPlateau reducing learning rate to 0.0005987368611386045.\n",
      "214/214 [==============================] - 110s 515ms/step - loss: 1.1713 - accuracy: 0.6250 - val_loss: 1.2042 - val_accuracy: 0.6416 - lr: 6.3025e-04\n",
      "Epoch 94/150\n",
      "214/214 [==============================] - 110s 516ms/step - loss: 1.1788 - accuracy: 0.6408 - val_loss: 1.1565 - val_accuracy: 0.6537 - lr: 5.9874e-04\n",
      "Epoch 95/150\n",
      "214/214 [==============================] - 110s 514ms/step - loss: 1.1805 - accuracy: 0.6205 - val_loss: 1.1134 - val_accuracy: 0.6653 - lr: 5.9874e-04\n",
      "Epoch 96/150\n",
      "214/214 [==============================] - 110s 515ms/step - loss: 1.1630 - accuracy: 0.6448 - val_loss: 1.2363 - val_accuracy: 0.6065 - lr: 5.9874e-04\n",
      "Epoch 97/150\n",
      "214/214 [==============================] - 110s 516ms/step - loss: 1.1807 - accuracy: 0.6343 - val_loss: 1.1606 - val_accuracy: 0.6517 - lr: 5.9874e-04\n",
      "Epoch 98/150\n",
      "214/214 [==============================] - ETA: 0s - loss: 1.1974 - accuracy: 0.6281\n",
      "Epoch 00098: ReduceLROnPlateau reducing learning rate to 0.0005688000208465382.\n",
      "214/214 [==============================] - 110s 514ms/step - loss: 1.1974 - accuracy: 0.6281 - val_loss: 1.1945 - val_accuracy: 0.6420 - lr: 5.9874e-04\n",
      "Epoch 99/150\n",
      "214/214 [==============================] - 110s 515ms/step - loss: 1.1604 - accuracy: 0.6397 - val_loss: 1.1284 - val_accuracy: 0.6527 - lr: 5.6880e-04\n",
      "Epoch 100/150\n",
      "214/214 [==============================] - 110s 516ms/step - loss: 1.0926 - accuracy: 0.6724 - val_loss: 1.1470 - val_accuracy: 0.6354 - lr: 5.6880e-04\n",
      "Epoch 101/150\n",
      "214/214 [==============================] - 110s 516ms/step - loss: 1.1449 - accuracy: 0.6365 - val_loss: 1.2095 - val_accuracy: 0.6260 - lr: 5.6880e-04\n",
      "Epoch 102/150\n",
      "214/214 [==============================] - ETA: 0s - loss: 1.1404 - accuracy: 0.6451\n",
      "Epoch 00102: ReduceLROnPlateau reducing learning rate to 0.0005403600225690752.\n",
      "214/214 [==============================] - 110s 516ms/step - loss: 1.1404 - accuracy: 0.6451 - val_loss: 1.1667 - val_accuracy: 0.6406 - lr: 5.6880e-04\n",
      "Epoch 103/150\n",
      "214/214 [==============================] - 110s 515ms/step - loss: 1.1259 - accuracy: 0.6491 - val_loss: 1.1525 - val_accuracy: 0.6374 - lr: 5.4036e-04\n",
      "Epoch 104/150\n",
      "214/214 [==============================] - 110s 515ms/step - loss: 1.1010 - accuracy: 0.6564 - val_loss: 1.1020 - val_accuracy: 0.6651 - lr: 5.4036e-04\n",
      "Epoch 105/150\n",
      "214/214 [==============================] - 110s 516ms/step - loss: 1.1175 - accuracy: 0.6638 - val_loss: 1.1288 - val_accuracy: 0.6700 - lr: 5.4036e-04\n",
      "Epoch 106/150\n",
      "214/214 [==============================] - 110s 515ms/step - loss: 1.1413 - accuracy: 0.6481 - val_loss: 1.1613 - val_accuracy: 0.6489 - lr: 5.4036e-04\n",
      "Epoch 107/150\n",
      "214/214 [==============================] - 110s 516ms/step - loss: 1.1416 - accuracy: 0.6433 - val_loss: 1.0500 - val_accuracy: 0.6923 - lr: 5.4036e-04\n",
      "Epoch 108/150\n",
      "214/214 [==============================] - 110s 514ms/step - loss: 1.0723 - accuracy: 0.6660 - val_loss: 1.0706 - val_accuracy: 0.6919 - lr: 5.4036e-04\n",
      "Epoch 109/150\n",
      "214/214 [==============================] - 110s 515ms/step - loss: 1.0751 - accuracy: 0.6700 - val_loss: 1.2303 - val_accuracy: 0.6067 - lr: 5.4036e-04\n",
      "Epoch 110/150\n",
      "214/214 [==============================] - ETA: 0s - loss: 1.0510 - accuracy: 0.6824\n",
      "Epoch 00110: ReduceLROnPlateau reducing learning rate to 0.0005133419937919825.\n",
      "214/214 [==============================] - 110s 516ms/step - loss: 1.0510 - accuracy: 0.6824 - val_loss: 1.1395 - val_accuracy: 0.6476 - lr: 5.4036e-04\n",
      "Epoch 111/150\n",
      "214/214 [==============================] - 110s 515ms/step - loss: 1.0807 - accuracy: 0.6721 - val_loss: 1.0817 - val_accuracy: 0.6790 - lr: 5.1334e-04\n",
      "Epoch 112/150\n",
      "214/214 [==============================] - 110s 515ms/step - loss: 1.1248 - accuracy: 0.6539 - val_loss: 1.1335 - val_accuracy: 0.6590 - lr: 5.1334e-04\n",
      "Epoch 113/150\n",
      "214/214 [==============================] - 110s 515ms/step - loss: 1.0591 - accuracy: 0.6761 - val_loss: 1.0763 - val_accuracy: 0.6761 - lr: 5.1334e-04\n",
      "Epoch 114/150\n",
      "214/214 [==============================] - ETA: 0s - loss: 1.0366 - accuracy: 0.6871\n",
      "Epoch 00114: ReduceLROnPlateau reducing learning rate to 0.0004876748775132.\n",
      "214/214 [==============================] - 110s 515ms/step - loss: 1.0366 - accuracy: 0.6871 - val_loss: 1.0764 - val_accuracy: 0.6629 - lr: 5.1334e-04\n",
      "Epoch 115/150\n",
      "214/214 [==============================] - 110s 515ms/step - loss: 0.9920 - accuracy: 0.6957 - val_loss: 1.1908 - val_accuracy: 0.6382 - lr: 4.8767e-04\n",
      "Epoch 116/150\n",
      "214/214 [==============================] - 110s 515ms/step - loss: 1.0409 - accuracy: 0.6674 - val_loss: 1.0658 - val_accuracy: 0.6814 - lr: 4.8767e-04\n",
      "Epoch 117/150\n",
      "214/214 [==============================] - 111s 517ms/step - loss: 1.0474 - accuracy: 0.6751 - val_loss: 1.2197 - val_accuracy: 0.6213 - lr: 4.8767e-04\n",
      "Epoch 118/150\n",
      "214/214 [==============================] - ETA: 0s - loss: 1.0643 - accuracy: 0.6757\n",
      "Epoch 00118: ReduceLROnPlateau reducing learning rate to 0.00046329112810781223.\n",
      "214/214 [==============================] - 110s 515ms/step - loss: 1.0643 - accuracy: 0.6757 - val_loss: 1.1330 - val_accuracy: 0.6472 - lr: 4.8767e-04\n",
      "Epoch 119/150\n",
      "214/214 [==============================] - 110s 515ms/step - loss: 1.0184 - accuracy: 0.6910 - val_loss: 1.0780 - val_accuracy: 0.6737 - lr: 4.6329e-04\n",
      "Epoch 120/150\n",
      "214/214 [==============================] - 111s 517ms/step - loss: 1.0246 - accuracy: 0.6879 - val_loss: 1.0719 - val_accuracy: 0.6637 - lr: 4.6329e-04\n",
      "Epoch 121/150\n",
      "214/214 [==============================] - 110s 516ms/step - loss: 1.0277 - accuracy: 0.6795 - val_loss: 1.0709 - val_accuracy: 0.6732 - lr: 4.6329e-04\n",
      "Epoch 122/150\n",
      "214/214 [==============================] - 110s 515ms/step - loss: 1.0270 - accuracy: 0.6804 - val_loss: 1.0416 - val_accuracy: 0.6899 - lr: 4.6329e-04\n",
      "Epoch 123/150\n",
      "214/214 [==============================] - 110s 515ms/step - loss: 0.9579 - accuracy: 0.7134 - val_loss: 1.0624 - val_accuracy: 0.6848 - lr: 4.6329e-04\n",
      "Epoch 124/150\n",
      "214/214 [==============================] - 110s 516ms/step - loss: 1.0135 - accuracy: 0.6929 - val_loss: 1.0325 - val_accuracy: 0.7043 - lr: 4.6329e-04\n",
      "Epoch 125/150\n",
      "214/214 [==============================] - 110s 516ms/step - loss: 1.0448 - accuracy: 0.6878 - val_loss: 1.0387 - val_accuracy: 0.6861 - lr: 4.6329e-04\n",
      "Epoch 126/150\n",
      "214/214 [==============================] - 110s 516ms/step - loss: 1.0193 - accuracy: 0.6924 - val_loss: 1.0453 - val_accuracy: 0.6778 - lr: 4.6329e-04\n",
      "Epoch 127/150\n",
      "214/214 [==============================] - 110s 516ms/step - loss: 1.0310 - accuracy: 0.6879 - val_loss: 1.0116 - val_accuracy: 0.7006 - lr: 4.6329e-04\n",
      "Epoch 128/150\n",
      "214/214 [==============================] - 110s 516ms/step - loss: 0.9893 - accuracy: 0.6954 - val_loss: 1.1250 - val_accuracy: 0.6637 - lr: 4.6329e-04\n",
      "Epoch 129/150\n",
      "214/214 [==============================] - 110s 515ms/step - loss: 0.9925 - accuracy: 0.6989 - val_loss: 1.0680 - val_accuracy: 0.6749 - lr: 4.6329e-04\n",
      "Epoch 130/150\n",
      "214/214 [==============================] - ETA: 0s - loss: 1.0103 - accuracy: 0.6964\n",
      "Epoch 00130: ReduceLROnPlateau reducing learning rate to 0.00044012657308485355.\n",
      "214/214 [==============================] - 111s 517ms/step - loss: 1.0103 - accuracy: 0.6964 - val_loss: 1.0246 - val_accuracy: 0.6938 - lr: 4.6329e-04\n",
      "Epoch 131/150\n",
      "214/214 [==============================] - 110s 516ms/step - loss: 0.9483 - accuracy: 0.7097 - val_loss: 1.0528 - val_accuracy: 0.6748 - lr: 4.4013e-04\n",
      "Epoch 132/150\n",
      "214/214 [==============================] - 110s 516ms/step - loss: 1.0006 - accuracy: 0.6962 - val_loss: 1.0246 - val_accuracy: 0.6833 - lr: 4.4013e-04\n",
      "Epoch 133/150\n"
     ]
    },
    {
     "name": "stdout",
     "output_type": "stream",
     "text": [
      "214/214 [==============================] - 110s 516ms/step - loss: 0.9425 - accuracy: 0.7103 - val_loss: 1.0936 - val_accuracy: 0.6729 - lr: 4.4013e-04\n",
      "Epoch 134/150\n",
      "214/214 [==============================] - ETA: 0s - loss: 1.0261 - accuracy: 0.6879\n",
      "Epoch 00134: ReduceLROnPlateau reducing learning rate to 0.00041812024719547477.\n",
      "214/214 [==============================] - 110s 516ms/step - loss: 1.0261 - accuracy: 0.6879 - val_loss: 1.0216 - val_accuracy: 0.6963 - lr: 4.4013e-04\n",
      "Epoch 135/150\n",
      "214/214 [==============================] - 110s 515ms/step - loss: 0.9893 - accuracy: 0.7029 - val_loss: 1.0052 - val_accuracy: 0.6994 - lr: 4.1812e-04\n",
      "Epoch 136/150\n",
      "214/214 [==============================] - 110s 516ms/step - loss: 0.9464 - accuracy: 0.7140 - val_loss: 1.0311 - val_accuracy: 0.6970 - lr: 4.1812e-04\n",
      "Epoch 137/150\n",
      "214/214 [==============================] - 110s 515ms/step - loss: 0.9916 - accuracy: 0.6967 - val_loss: 1.0678 - val_accuracy: 0.6878 - lr: 4.1812e-04\n",
      "Epoch 138/150\n",
      "214/214 [==============================] - ETA: 0s - loss: 0.9817 - accuracy: 0.7070\n",
      "Epoch 00138: ReduceLROnPlateau reducing learning rate to 0.00039721422654110934.\n",
      "214/214 [==============================] - 110s 516ms/step - loss: 0.9817 - accuracy: 0.7070 - val_loss: 1.1529 - val_accuracy: 0.6481 - lr: 4.1812e-04\n",
      "Epoch 139/150\n",
      "214/214 [==============================] - 110s 515ms/step - loss: 0.9873 - accuracy: 0.6965 - val_loss: 1.0187 - val_accuracy: 0.6839 - lr: 3.9721e-04\n",
      "Epoch 140/150\n",
      "214/214 [==============================] - 110s 515ms/step - loss: 0.9343 - accuracy: 0.7250 - val_loss: 1.0375 - val_accuracy: 0.6753 - lr: 3.9721e-04\n",
      "Epoch 141/150\n",
      "214/214 [==============================] - 110s 515ms/step - loss: 0.9654 - accuracy: 0.7005 - val_loss: 0.9940 - val_accuracy: 0.7006 - lr: 3.9721e-04\n",
      "Epoch 142/150\n",
      "214/214 [==============================] - 111s 517ms/step - loss: 0.9201 - accuracy: 0.7294 - val_loss: 0.9858 - val_accuracy: 0.7041 - lr: 3.9721e-04\n",
      "Epoch 143/150\n",
      "214/214 [==============================] - 111s 516ms/step - loss: 0.9481 - accuracy: 0.7074 - val_loss: 1.0347 - val_accuracy: 0.6720 - lr: 3.9721e-04\n",
      "Epoch 144/150\n",
      "214/214 [==============================] - 111s 517ms/step - loss: 0.9599 - accuracy: 0.7051 - val_loss: 0.9864 - val_accuracy: 0.7004 - lr: 3.9721e-04\n",
      "Epoch 145/150\n",
      "214/214 [==============================] - 110s 516ms/step - loss: 0.9282 - accuracy: 0.7155 - val_loss: 0.9789 - val_accuracy: 0.7150 - lr: 3.9721e-04\n",
      "Epoch 146/150\n",
      "214/214 [==============================] - 111s 517ms/step - loss: 0.9581 - accuracy: 0.7109 - val_loss: 1.0326 - val_accuracy: 0.6773 - lr: 3.9721e-04\n",
      "Epoch 147/150\n",
      "214/214 [==============================] - 110s 516ms/step - loss: 0.9399 - accuracy: 0.7190 - val_loss: 1.0008 - val_accuracy: 0.6928 - lr: 3.9721e-04\n",
      "Epoch 148/150\n",
      "214/214 [==============================] - ETA: 0s - loss: 0.9442 - accuracy: 0.7130\n",
      "Epoch 00148: ReduceLROnPlateau reducing learning rate to 0.00037735351797891776.\n",
      "214/214 [==============================] - 110s 514ms/step - loss: 0.9442 - accuracy: 0.7130 - val_loss: 0.9844 - val_accuracy: 0.7019 - lr: 3.9721e-04\n",
      "Epoch 149/150\n",
      "214/214 [==============================] - 110s 513ms/step - loss: 0.9319 - accuracy: 0.7206 - val_loss: 1.0030 - val_accuracy: 0.6907 - lr: 3.7735e-04\n",
      "Epoch 150/150\n",
      "214/214 [==============================] - 110s 515ms/step - loss: 0.9848 - accuracy: 0.6980 - val_loss: 0.9983 - val_accuracy: 0.6858 - lr: 3.7735e-04\n"
     ]
    }
   ],
   "source": [
    "hist = model.fit_generator(\n",
    "    train_generator,\n",
    "    steps_per_epoch=steps_per_epoch,\n",
    "    validation_data=validation_generator,\n",
    "    validation_steps=val_steps,\n",
    "    epochs=150,\n",
    "    verbose=1,\n",
    "    callbacks=[reduceLROnPlat])"
   ]
  },
  {
   "cell_type": "code",
   "execution_count": 20,
   "metadata": {},
   "outputs": [
    {
     "name": "stdout",
     "output_type": "stream",
     "text": [
      "val_loss = 0.985 and val_acc = 0.701\n"
     ]
    }
   ],
   "source": [
    "score = model.evaluate(X_test, y_test, verbose=0)\n",
    "print(\"val_loss = {:.3f} and val_acc = {:.3f}\".format(score[0], score[1]))"
   ]
  },
  {
   "cell_type": "code",
   "execution_count": 21,
   "metadata": {},
   "outputs": [
    {
     "data": {
      "image/png": "[encoded data removed]",
      "text/plain": [
       "<Figure size 1080x504 with 2 Axes>"
      ]
     },
     "metadata": {
      "needs_background": "light"
     },
     "output_type": "display_data"
    }
   ],
   "source": [
    "plt.figure(figsize=(15,7))\n",
    "\n",
    "plt.subplot(1,2,1)\n",
    "plt.plot(hist.history['accuracy'], label='train')\n",
    "plt.plot(hist.history['val_accuracy'], label='validation')\n",
    "plt.title('Accuracy')\n",
    "plt.xlabel('Epochs')\n",
    "plt.ylabel('Accuracy')\n",
    "plt.legend()\n",
    "\n",
    "plt.subplot(1,2,2)\n",
    "plt.plot(hist.history['loss'], label='train')\n",
    "plt.plot(hist.history['val_loss'], label='validation')\n",
    "plt.title('Loss')\n",
    "plt.xlabel('Epochs')\n",
    "plt.ylabel('Loss')\n",
    "plt.legend()\n",
    "\n",
    "plt.tight_layout()\n",
    "plt.show()"
   ]
  },
  {
   "cell_type": "code",
   "execution_count": 22,
   "metadata": {},
   "outputs": [],
   "source": [
    "#http://scikit-learn.org/stable/auto_examples/model_selection/plot_confusion_matrix.html\n",
    "def plot_confusion_matrix(cm, classes,\n",
    "                          normalize=False,\n",
    "                          title='Confusion matrix',\n",
    "                          cmap=plt.cm.Blues):\n",
    "    \"\"\"\n",
    "    This function prints and plots the confusion matrix.\n",
    "    Normalization can be applied by setting `normalize=True`.\n",
    "    \"\"\"\n",
    "    if normalize:\n",
    "        cm = cm.astype('float') / cm.sum(axis=1)[:, np.newaxis]\n",
    "        print(\"Normalized confusion matrix\")\n",
    "    else:\n",
    "        print('Confusion matrix, without normalization')\n",
    "\n",
    "    plt.imshow(cm, interpolation='nearest', cmap=cmap)\n",
    "    plt.title(title)\n",
    "    plt.colorbar()\n",
    "    tick_marks = np.arange(len(classes))\n",
    "    plt.xticks(tick_marks, classes, rotation=45)\n",
    "    plt.yticks(tick_marks, classes)\n",
    "\n",
    "    fmt = '.2f' if normalize else 'd'\n",
    "    thresh = cm.max() / 2.\n",
    "    for i, j in itertools.product(range(cm.shape[0]), range(cm.shape[1])):\n",
    "        plt.text(j, i, format(cm[i, j], fmt),\n",
    "                 horizontalalignment=\"center\",\n",
    "                 color=\"white\" if cm[i, j] > thresh else \"black\")\n",
    "\n",
    "    plt.tight_layout()\n",
    "    plt.ylabel('True label')\n",
    "    plt.xlabel('Predicted label')"
   ]
  },
  {
   "cell_type": "code",
   "execution_count": 23,
   "metadata": {},
   "outputs": [],
   "source": [
    "preds = np.argmax(model.predict(X_test), axis = 1)\n",
    "y_orig = np.argmax(y_test, axis = 1)\n",
    "cm = confusion_matrix(preds, y_orig)"
   ]
  },
  {
   "cell_type": "code",
   "execution_count": 24,
   "metadata": {},
   "outputs": [
    {
     "name": "stdout",
     "output_type": "stream",
     "text": [
      "Normalized confusion matrix\n"
     ]
    },
    {
     "data": {
      "image/png": "[encoded data removed]",
      "text/plain": [
       "<Figure size 720x720 with 2 Axes>"
      ]
     },
     "metadata": {
      "needs_background": "light"
     },
     "output_type": "display_data"
    }
   ],
   "source": [
    "keys = OrderedDict(sorted(genres.items(), key=lambda t: t[1])).keys()\n",
    "\n",
    "plt.figure(figsize=(10,10))\n",
    "plot_confusion_matrix(cm, keys, normalize=True)"
   ]
  },
  {
   "cell_type": "markdown",
   "metadata": {},
   "source": [
    "## Majority Vote"
   ]
  },
  {
   "cell_type": "code",
   "execution_count": 25,
   "metadata": {},
   "outputs": [],
   "source": [
    "def majority_vote(scores):\n",
    "    values, counts = np.unique(scores,return_counts=True)\n",
    "    ind = np.argmax(counts)\n",
    "    return values[ind]"
   ]
  },
  {
   "cell_type": "code",
   "execution_count": 26,
   "metadata": {},
   "outputs": [],
   "source": [
    "preds = model.predict(X_test, batch_size=128, verbose=0)\n"
   ]
  },
  {
   "cell_type": "code",
   "execution_count": 27,
   "metadata": {},
   "outputs": [],
   "source": [
    "# Each sound was divided into 39 segments in our custom function\n",
    "scores_songs = np.split(np.argmax(preds, axis=1), 300)\n",
    "scores_songs = [majority_vote(scores) for scores in scores_songs]\n"
   ]
  },
  {
   "cell_type": "code",
   "execution_count": 28,
   "metadata": {},
   "outputs": [],
   "source": [
    "# Same analysis for split\n",
    "label = np.split(np.argmax(y_test, axis=1), 300)\n",
    "label = [majority_vote(l) for l in label]\n"
   ]
  },
  {
   "cell_type": "code",
   "execution_count": 29,
   "metadata": {},
   "outputs": [
    {
     "name": "stdout",
     "output_type": "stream",
     "text": [
      "majority voting system (acc) = 0.783\n"
     ]
    }
   ],
   "source": [
    "from sklearn.metrics import accuracy_score\n",
    "\n",
    "print(\"majority voting system (acc) = {:.3f}\".format(accuracy_score(label, scores_songs)))"
   ]
  },
  {
   "cell_type": "markdown",
   "metadata": {},
   "source": [
    "## Save the model"
   ]
  },
  {
   "cell_type": "code",
   "execution_count": 33,
   "metadata": {},
   "outputs": [],
   "source": [
    "# Save the model\n",
    "model.save('./custom_cnn_2d.h5')\n"
   ]
  },
  {
   "cell_type": "markdown",
   "metadata": {},
   "source": [
    "### Reference \n",
    "#### https://github.com/Hguimaraes/gtzan.keras/blob/master/nbs/1.1-custom_cnn_2d.ipynb"
   ]
  }
 ],
 "metadata": {
  "kernelspec": {
   "display_name": "Python 3",
   "language": "python",
   "name": "python3"
  },
  "language_info": {
   "codemirror_mode": {
    "name": "ipython",
    "version": 3
   },
   "file_extension": ".py",
   "mimetype": "text/x-python",
   "name": "python",
   "nbconvert_exporter": "python",
   "pygments_lexer": "ipython3",
   "version": "3.8.2"
  }
 },
 "nbformat": 4,
 "nbformat_minor": 2
}

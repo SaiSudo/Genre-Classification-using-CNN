{
 "cells": [
  {
   "cell_type": "markdown",
   "metadata": {},
   "source": [
    "# CLassification of music genre on GTZAN dataset using CNN\n",
    "## Here I have used MFCC as the feature extraction technique"
   ]
  },
  {
   "cell_type": "code",
   "execution_count": 1,
   "metadata": {},
   "outputs": [],
   "source": [
    "import os\n",
    "import h5py\n",
    "import librosa\n",
    "import itertools\n",
    "from copy import copy\n",
    "import numpy as np\n",
    "import matplotlib.pyplot as plt\n",
    "from collections import OrderedDict\n",
    "from sklearn.model_selection import train_test_split\n",
    "from sklearn.metrics import confusion_matrix\n",
    "import tensorflow as tf\n",
    "from tensorflow.keras.utils import to_categorical\n",
    "from tensorflow.keras.models import Model\n",
    "from tensorflow.keras.layers import Input\n",
    "from tensorflow.keras.models import Sequential\n",
    "from tensorflow.keras.layers import Add\n",
    "from tensorflow.keras.layers import Dense\n",
    "from tensorflow.keras.layers import Activation\n",
    "from tensorflow.keras.layers import PReLU\n",
    "from tensorflow.keras.layers import Conv2D\n",
    "from tensorflow.keras.layers import MaxPooling2D\n",
    "from tensorflow.keras.layers import AveragePooling2D\n",
    "from tensorflow.keras.layers import GlobalAveragePooling2D\n",
    "from tensorflow.keras.layers import GlobalMaxPooling2D\n",
    "from tensorflow.keras.layers import Dropout\n",
    "from tensorflow.keras.layers import Flatten\n",
    "from tensorflow.keras.layers import BatchNormalization\n",
    "from tensorflow.keras.callbacks import ReduceLROnPlateau\n"
   ]
  },
  {
   "cell_type": "code",
   "execution_count": 2,
   "metadata": {},
   "outputs": [],
   "source": [
    "# For reproducibility purposes\n",
    "np.random.seed(42)"
   ]
  },
  {
   "cell_type": "markdown",
   "metadata": {},
   "source": [
    "## Helper functions"
   ]
  },
  {
   "cell_type": "code",
   "execution_count": 3,
   "metadata": {},
   "outputs": [],
   "source": [
    "\"\"\"\n",
    "@description: Method to split a song into multiple songs using overlapping windows\n",
    "\"\"\"\n",
    "def splitsongs(X, y, window = 0.05, overlap = 0.5):\n",
    "    # Empty lists to hold our results\n",
    "    temp_X = []\n",
    "    temp_y = []\n",
    "\n",
    "    # Get the input song array size\n",
    "    xshape = X.shape[0]\n",
    "    chunk = int(xshape*window)\n",
    "    offset = int(chunk*(1.-overlap))\n",
    "    \n",
    "    # Split the song and create new ones on windows\n",
    "    spsong = [X[i:i+chunk] for i in range(0, xshape - chunk + offset, offset)]\n",
    "    for s in spsong:\n",
    "        if s.shape[0] != chunk:\n",
    "            continue\n",
    "\n",
    "        temp_X.append(s)\n",
    "        temp_y.append(y)\n",
    "\n",
    "    return np.array(temp_X), np.array(temp_y)"
   ]
  },
  {
   "cell_type": "code",
   "execution_count": 4,
   "metadata": {},
   "outputs": [],
   "source": [
    "\"\"\"\n",
    "@description: Method to convert a list of songs to a np array of MFCC\n",
    "\"\"\"\n",
    "def to_Mfcc(songs, n_fft=1024, hop_length=256):\n",
    "    # Transformation function\n",
    "    mfccspec = lambda x: librosa.feature.mfcc(x, n_fft=n_fft,\n",
    "        hop_length=hop_length, n_mfcc=128)[:,:,np.newaxis]\n",
    "\n",
    "    # map transformation of input songs to melspectrogram using log-scale\n",
    "    tsongs = map(mfccspec, songs)\n",
    "    # np.array([librosa.power_to_db(s, ref=np.max) for s in list(tsongs)])\n",
    "    return np.array(list(tsongs))"
   ]
  },
  {
   "cell_type": "code",
   "execution_count": 5,
   "metadata": {},
   "outputs": [],
   "source": [
    "def split_convert(X, y):\n",
    "    arr_specs, arr_genres = [], []\n",
    "    \n",
    "    # Convert to spectrograms and split into small windows\n",
    "    for fn, genre in zip(X, y):\n",
    "        signal, sr = librosa.load(fn)\n",
    "        signal = signal[:song_samples]\n",
    "\n",
    "        # Convert to dataset of spectograms/melspectograms\n",
    "        signals, y = splitsongs(signal, genre)\n",
    "\n",
    "        # Convert to \"spec\" representation\n",
    "        specs = to_Mfcc(signals)\n",
    "\n",
    "        # Save files\n",
    "        arr_genres.extend(y)\n",
    "        arr_specs.extend(specs)\n",
    "    \n",
    "    return np.array(arr_specs), to_categorical(arr_genres)\n"
   ]
  },
  {
   "cell_type": "code",
   "execution_count": 6,
   "metadata": {},
   "outputs": [],
   "source": [
    "def read_data(src_dir, genres, song_samples):    \n",
    "    # Empty array of dicts with the processed features from all files\n",
    "    arr_fn = []\n",
    "    arr_genres = []\n",
    "\n",
    "    # Get file list from the folders\n",
    "    for x,_ in genres.items():\n",
    "        folder = src_dir + x\n",
    "        for root, subdirs, files in os.walk(folder):\n",
    "            for file in files:\n",
    "                file_name = folder + \"/\" + file\n",
    "\n",
    "                # Save the file name and the genre\n",
    "                arr_fn.append(file_name)\n",
    "                arr_genres.append(genres[x])\n",
    "    \n",
    "    # Split into train and test\n",
    "    X_train, X_test, y_train, y_test = train_test_split(\n",
    "        arr_fn, arr_genres, test_size=0.3, random_state=42, stratify=arr_genres\n",
    "    )\n",
    "    \n",
    "    # Split into small segments and convert to spectrogram\n",
    "    X_train, y_train = split_convert(X_train, y_train)\n",
    "    X_test, y_test = split_convert(X_test, y_test)\n",
    "\n",
    "    return X_train, X_test, y_train, y_test"
   ]
  },
  {
   "cell_type": "code",
   "execution_count": 7,
   "metadata": {},
   "outputs": [],
   "source": [
    "# Parameters\n",
    "gtzan_dir = './genres/'\n",
    "song_samples = 660000\n",
    "genres = {'metal': 0, 'disco': 1, 'classical': 2, 'hiphop': 3, 'jazz': 4, \n",
    "          'country': 5, 'pop': 6, 'blues': 7, 'reggae': 8, 'rock': 9}\n",
    "\n",
    "# Read the data\n",
    "X_train, X_test, y_train, y_test = read_data(gtzan_dir, genres, song_samples)\n"
   ]
  },
  {
   "cell_type": "code",
   "execution_count": 8,
   "metadata": {},
   "outputs": [
    {
     "name": "stdout",
     "output_type": "stream",
     "text": [
      "(27300, 128, 129, 1) (11700, 128, 129, 1) (27300, 10) (11700, 10)\n"
     ]
    }
   ],
   "source": [
    "print(X_train.shape, X_test.shape, y_train.shape, y_test.shape)"
   ]
  },
  {
   "cell_type": "code",
   "execution_count": 9,
   "metadata": {},
   "outputs": [
    {
     "data": {
      "image/png": "[encoded data removed]",
      "text/plain": [
       "<Figure size 432x288 with 1 Axes>"
      ]
     },
     "metadata": {
      "needs_background": "light"
     },
     "output_type": "display_data"
    }
   ],
   "source": [
    "# Histogram for train and test \n",
    "values, count = np.unique(np.argmax(y_train, axis=1), return_counts=True)\n",
    "plt.bar(values, count)\n",
    "\n",
    "values, count = np.unique(np.argmax(y_test, axis=1), return_counts=True)\n",
    "plt.bar(values, count\n",
    "       )\n",
    "plt.show()\n",
    "\n"
   ]
  },
  {
   "cell_type": "markdown",
   "metadata": {},
   "source": [
    "## GTZAN MFCC Generator"
   ]
  },
  {
   "cell_type": "code",
   "execution_count": 10,
   "metadata": {},
   "outputs": [],
   "source": [
    "from tensorflow.keras.utils import Sequence\n",
    "\n",
    "class GTZANGenerator(Sequence):\n",
    "    def __init__(self, X, y, batch_size=64, is_test = False):\n",
    "        self.X = X\n",
    "        self.y = y\n",
    "        self.batch_size = batch_size\n",
    "        self.is_test = is_test\n",
    "    \n",
    "    def __len__(self):\n",
    "        return int(np.ceil(len(self.X)/self.batch_size))\n",
    "    \n",
    "    def __getitem__(self, index):\n",
    "        # Get batch indexes\n",
    "        signals = self.X[index*self.batch_size:(index+1)*self.batch_size]\n",
    "\n",
    "        # Apply data augmentation\n",
    "        if not self.is_test:\n",
    "            signals = self.__augment(signals)\n",
    "        return signals, self.y[index*self.batch_size:(index+1)*self.batch_size]\n",
    "    \n",
    "    def __augment(self, signals, hor_flip = 0.5, random_cutout = 0.5):\n",
    "        spectrograms =  []\n",
    "        for s in signals:\n",
    "            signal = copy(s)\n",
    "            \n",
    "            # Perform horizontal flip\n",
    "            if np.random.rand() < hor_flip:\n",
    "                signal = np.flip(signal, 1)\n",
    "\n",
    "            # Perform random cutoout of some frequency/time\n",
    "            if np.random.rand() < random_cutout:\n",
    "                lines = np.random.randint(signal.shape[0], size=3)\n",
    "                cols = np.random.randint(signal.shape[0], size=4)\n",
    "                signal[lines, :, :] = -80 # dB\n",
    "                signal[:, cols, :] = -80 # dB\n",
    "\n",
    "            spectrograms.append(signal)\n",
    "        return np.array(spectrograms)\n",
    "    \n",
    "    def on_epoch_end(self):\n",
    "        self.indexes = np.arange(len(self.X))\n",
    "        np.random.shuffle(self.indexes)\n",
    "        return None"
   ]
  },
  {
   "cell_type": "markdown",
   "metadata": {},
   "source": [
    "## Custom CNN (MFCC version)"
   ]
  },
  {
   "cell_type": "code",
   "execution_count": 11,
   "metadata": {},
   "outputs": [],
   "source": [
    "def conv_block(x, n_filters, pool_size=(2, 2)):\n",
    "    x = Conv2D(n_filters, (3, 3), strides=(1, 1), padding='same')(x)\n",
    "    x = Activation('relu')(x)\n",
    "    x = MaxPooling2D(pool_size=pool_size, strides=pool_size)(x)\n",
    "    x = Dropout(0.25)(x)\n",
    "    return x"
   ]
  },
  {
   "cell_type": "code",
   "execution_count": 12,
   "metadata": {},
   "outputs": [],
   "source": [
    "# Model Definition\n",
    "def create_model(input_shape, num_genres):\n",
    "    inpt = Input(shape=input_shape)\n",
    "    x = conv_block(inpt, 12)\n",
    "    x = conv_block(x, 32)\n",
    "    x = conv_block(x, 64)\n",
    "    x = conv_block(x, 128)\n",
    "    x = conv_block(x, 256)\n",
    "    \n",
    "    # Global Pooling and MLP\n",
    "    x = Flatten()(x)\n",
    "    x = Dropout(0.5)(x)\n",
    "    x = Dense(512, activation='relu', \n",
    "              kernel_regularizer=tf.keras.regularizers.l2(0.02))(x)\n",
    "    x = Dropout(0.25)(x)\n",
    "    predictions = Dense(num_genres, \n",
    "                        activation='softmax', \n",
    "                        kernel_regularizer=tf.keras.regularizers.l2(0.02))(x)\n",
    "    \n",
    "    model = Model(inputs=inpt, outputs=predictions)\n",
    "    return model\n"
   ]
  },
  {
   "cell_type": "code",
   "execution_count": 13,
   "metadata": {},
   "outputs": [],
   "source": [
    "model = create_model(X_train[0].shape, 10)"
   ]
  },
  {
   "cell_type": "markdown",
   "metadata": {},
   "source": [
    "## Loss function"
   ]
  },
  {
   "cell_type": "code",
   "execution_count": 14,
   "metadata": {},
   "outputs": [],
   "source": [
    "model.compile(loss=tf.keras.losses.categorical_crossentropy,\n",
    "              optimizer=tf.keras.optimizers.Adam(),\n",
    "              metrics=['accuracy'])"
   ]
  },
  {
   "cell_type": "code",
   "execution_count": 15,
   "metadata": {},
   "outputs": [],
   "source": [
    "reduceLROnPlat = ReduceLROnPlateau(\n",
    "    monitor='val_loss', \n",
    "    factor=0.95,\n",
    "    patience=3,\n",
    "    verbose=1,\n",
    "    mode='min',\n",
    "    min_delta=0.0001,\n",
    "    cooldown=2,\n",
    "    min_lr=1e-5\n",
    ")"
   ]
  },
  {
   "cell_type": "code",
   "execution_count": 16,
   "metadata": {},
   "outputs": [],
   "source": [
    "# Generators\n",
    "batch_size = 128\n",
    "train_generator = GTZANGenerator(X_train, y_train)\n",
    "steps_per_epoch = np.ceil(len(X_train)/batch_size)\n",
    "\n",
    "validation_generator = GTZANGenerator(X_test, y_test)\n",
    "val_steps = np.ceil(len(X_test)/batch_size)\n"
   ]
  },
  {
   "cell_type": "code",
   "execution_count": 17,
   "metadata": {},
   "outputs": [
    {
     "name": "stdout",
     "output_type": "stream",
     "text": [
      "WARNING:tensorflow:From <ipython-input-17-c619abd23725>:1: Model.fit_generator (from tensorflow.python.keras.engine.training) is deprecated and will be removed in a future version.\n",
      "Instructions for updating:\n",
      "Please use Model.fit, which supports generators.\n",
      "Epoch 1/150\n",
      "214/214 [==============================] - 120s 559ms/step - loss: 13.6101 - accuracy: 0.0963 - val_loss: 7.2945 - val_accuracy: 0.1318 - lr: 0.0010\n",
      "Epoch 2/150\n",
      "214/214 [==============================] - 126s 590ms/step - loss: 5.3379 - accuracy: 0.1543 - val_loss: 3.9383 - val_accuracy: 0.2938 - lr: 0.0010\n",
      "Epoch 3/150\n",
      "214/214 [==============================] - 126s 589ms/step - loss: 3.4242 - accuracy: 0.1615 - val_loss: 2.9906 - val_accuracy: 0.1607 - lr: 0.0010\n",
      "Epoch 4/150\n",
      "214/214 [==============================] - 125s 586ms/step - loss: 2.7098 - accuracy: 0.2175 - val_loss: 2.6185 - val_accuracy: 0.1841 - lr: 0.0010\n",
      "Epoch 5/150\n",
      "214/214 [==============================] - 125s 585ms/step - loss: 2.3453 - accuracy: 0.2496 - val_loss: 2.1687 - val_accuracy: 0.3021 - lr: 0.0010\n",
      "Epoch 6/150\n",
      "214/214 [==============================] - 125s 585ms/step - loss: 2.1848 - accuracy: 0.2693 - val_loss: 2.1617 - val_accuracy: 0.3225 - lr: 0.0010\n",
      "Epoch 7/150\n",
      "214/214 [==============================] - 125s 583ms/step - loss: 2.0944 - accuracy: 0.2624 - val_loss: 2.0939 - val_accuracy: 0.3290 - lr: 0.0010\n",
      "Epoch 8/150\n",
      "214/214 [==============================] - 125s 586ms/step - loss: 2.0363 - accuracy: 0.2737 - val_loss: 1.9461 - val_accuracy: 0.3765 - lr: 0.0010\n",
      "Epoch 9/150\n",
      "214/214 [==============================] - 125s 583ms/step - loss: 1.9942 - accuracy: 0.2885 - val_loss: 2.1655 - val_accuracy: 0.2672 - lr: 0.0010\n",
      "Epoch 10/150\n",
      "214/214 [==============================] - 125s 583ms/step - loss: 1.9589 - accuracy: 0.3000 - val_loss: 2.1424 - val_accuracy: 0.2035 - lr: 0.0010\n",
      "Epoch 11/150\n",
      "214/214 [==============================] - ETA: 0s - loss: 1.8985 - accuracy: 0.3246\n",
      "Epoch 00011: ReduceLROnPlateau reducing learning rate to 0.0009500000451225787.\n",
      "214/214 [==============================] - 125s 583ms/step - loss: 1.8985 - accuracy: 0.3246 - val_loss: 1.9663 - val_accuracy: 0.3341 - lr: 0.0010\n",
      "Epoch 12/150\n",
      "214/214 [==============================] - 125s 582ms/step - loss: 1.9414 - accuracy: 0.3167 - val_loss: 1.8556 - val_accuracy: 0.3568 - lr: 9.5000e-04\n",
      "Epoch 13/150\n",
      "214/214 [==============================] - 112s 523ms/step - loss: 1.8667 - accuracy: 0.3296 - val_loss: 1.9290 - val_accuracy: 0.3528 - lr: 9.5000e-04\n",
      "Epoch 14/150\n",
      "214/214 [==============================] - 129s 602ms/step - loss: 1.9123 - accuracy: 0.3135 - val_loss: 2.0401 - val_accuracy: 0.3298 - lr: 9.5000e-04\n",
      "Epoch 15/150\n",
      "214/214 [==============================] - 125s 584ms/step - loss: 1.8168 - accuracy: 0.3509 - val_loss: 1.8353 - val_accuracy: 0.3964 - lr: 9.5000e-04\n",
      "Epoch 16/150\n",
      "214/214 [==============================] - 125s 583ms/step - loss: 1.8736 - accuracy: 0.3199 - val_loss: 1.8335 - val_accuracy: 0.3575 - lr: 9.5000e-04\n",
      "Epoch 17/150\n",
      "214/214 [==============================] - 125s 582ms/step - loss: 1.8208 - accuracy: 0.3365 - val_loss: 1.8216 - val_accuracy: 0.3393 - lr: 9.5000e-04\n",
      "Epoch 18/150\n",
      "214/214 [==============================] - 127s 593ms/step - loss: 1.7774 - accuracy: 0.3511 - val_loss: 1.7118 - val_accuracy: 0.3939 - lr: 9.5000e-04\n",
      "Epoch 19/150\n",
      "214/214 [==============================] - 125s 585ms/step - loss: 1.7539 - accuracy: 0.3465 - val_loss: 1.8171 - val_accuracy: 0.3388 - lr: 9.5000e-04\n",
      "Epoch 20/150\n",
      "214/214 [==============================] - 125s 583ms/step - loss: 1.7718 - accuracy: 0.3592 - val_loss: 1.7749 - val_accuracy: 0.3905 - lr: 9.5000e-04\n",
      "Epoch 21/150\n",
      "214/214 [==============================] - ETA: 0s - loss: 1.7887 - accuracy: 0.3606\n",
      "Epoch 00021: ReduceLROnPlateau reducing learning rate to 0.0009025000152178108.\n",
      "214/214 [==============================] - 124s 580ms/step - loss: 1.7887 - accuracy: 0.3606 - val_loss: 1.7394 - val_accuracy: 0.4285 - lr: 9.5000e-04\n",
      "Epoch 22/150\n",
      "214/214 [==============================] - 124s 580ms/step - loss: 1.7338 - accuracy: 0.3736 - val_loss: 1.8214 - val_accuracy: 0.3696 - lr: 9.0250e-04\n",
      "Epoch 23/150\n",
      "214/214 [==============================] - 125s 582ms/step - loss: 1.6451 - accuracy: 0.3915 - val_loss: 1.6453 - val_accuracy: 0.4153 - lr: 9.0250e-04\n",
      "Epoch 24/150\n",
      "214/214 [==============================] - 124s 579ms/step - loss: 1.7583 - accuracy: 0.3744 - val_loss: 1.7809 - val_accuracy: 0.3894 - lr: 9.0250e-04\n",
      "Epoch 25/150\n",
      "214/214 [==============================] - 124s 579ms/step - loss: 1.7649 - accuracy: 0.3556 - val_loss: 1.7359 - val_accuracy: 0.4441 - lr: 9.0250e-04\n",
      "Epoch 26/150\n",
      "214/214 [==============================] - 123s 574ms/step - loss: 1.6350 - accuracy: 0.4068 - val_loss: 1.6272 - val_accuracy: 0.4490 - lr: 9.0250e-04\n",
      "Epoch 27/150\n",
      "214/214 [==============================] - 125s 583ms/step - loss: 1.6610 - accuracy: 0.4146 - val_loss: 1.7377 - val_accuracy: 0.3988 - lr: 9.0250e-04\n",
      "Epoch 28/150\n",
      "214/214 [==============================] - 125s 586ms/step - loss: 1.6564 - accuracy: 0.4252 - val_loss: 1.7626 - val_accuracy: 0.3838 - lr: 9.0250e-04\n",
      "Epoch 29/150\n",
      "214/214 [==============================] - 125s 585ms/step - loss: 1.6549 - accuracy: 0.4035 - val_loss: 1.6250 - val_accuracy: 0.4327 - lr: 9.0250e-04\n",
      "Epoch 30/150\n",
      "214/214 [==============================] - 125s 582ms/step - loss: 1.5955 - accuracy: 0.4535 - val_loss: 1.6124 - val_accuracy: 0.4794 - lr: 9.0250e-04\n",
      "Epoch 31/150\n",
      "214/214 [==============================] - 125s 586ms/step - loss: 1.6452 - accuracy: 0.4308 - val_loss: 1.6053 - val_accuracy: 0.4818 - lr: 9.0250e-04\n",
      "Epoch 32/150\n",
      "214/214 [==============================] - 125s 585ms/step - loss: 1.5822 - accuracy: 0.4571 - val_loss: 1.6122 - val_accuracy: 0.4869 - lr: 9.0250e-04\n",
      "Epoch 33/150\n",
      "214/214 [==============================] - 125s 584ms/step - loss: 1.5895 - accuracy: 0.4409 - val_loss: 1.6204 - val_accuracy: 0.4545 - lr: 9.0250e-04\n",
      "Epoch 34/150\n",
      "214/214 [==============================] - 125s 583ms/step - loss: 1.5984 - accuracy: 0.4437 - val_loss: 1.6047 - val_accuracy: 0.4930 - lr: 9.0250e-04\n",
      "Epoch 35/150\n",
      "214/214 [==============================] - 125s 582ms/step - loss: 1.5965 - accuracy: 0.4369 - val_loss: 1.6460 - val_accuracy: 0.4924 - lr: 9.0250e-04\n",
      "Epoch 36/150\n",
      "214/214 [==============================] - 124s 579ms/step - loss: 1.5894 - accuracy: 0.4515 - val_loss: 1.6219 - val_accuracy: 0.4869 - lr: 9.0250e-04\n",
      "Epoch 37/150\n",
      "214/214 [==============================] - 124s 581ms/step - loss: 1.5709 - accuracy: 0.4672 - val_loss: 1.5892 - val_accuracy: 0.4842 - lr: 9.0250e-04\n",
      "Epoch 38/150\n",
      "214/214 [==============================] - 124s 579ms/step - loss: 1.5843 - accuracy: 0.4662 - val_loss: 1.6935 - val_accuracy: 0.4273 - lr: 9.0250e-04\n",
      "Epoch 39/150\n",
      "214/214 [==============================] - 126s 588ms/step - loss: 1.5651 - accuracy: 0.4524 - val_loss: 1.5114 - val_accuracy: 0.5127 - lr: 9.0250e-04\n",
      "Epoch 40/150\n",
      "214/214 [==============================] - 122s 571ms/step - loss: 1.5332 - accuracy: 0.4761 - val_loss: 1.6120 - val_accuracy: 0.4511 - lr: 9.0250e-04\n",
      "Epoch 41/150\n",
      "214/214 [==============================] - 123s 574ms/step - loss: 1.5631 - accuracy: 0.4596 - val_loss: 1.5339 - val_accuracy: 0.4908 - lr: 9.0250e-04\n",
      "Epoch 42/150\n",
      "214/214 [==============================] - 122s 572ms/step - loss: 1.5273 - accuracy: 0.4824 - val_loss: 1.5056 - val_accuracy: 0.5199 - lr: 9.0250e-04\n",
      "Epoch 43/150\n",
      "214/214 [==============================] - 123s 573ms/step - loss: 1.4801 - accuracy: 0.5080 - val_loss: 1.5219 - val_accuracy: 0.5059 - lr: 9.0250e-04\n",
      "Epoch 44/150\n",
      "214/214 [==============================] - 123s 574ms/step - loss: 1.5225 - accuracy: 0.4890 - val_loss: 1.5370 - val_accuracy: 0.5348 - lr: 9.0250e-04\n",
      "Epoch 45/150\n",
      "214/214 [==============================] - 113s 527ms/step - loss: 1.4762 - accuracy: 0.5053 - val_loss: 1.4744 - val_accuracy: 0.5431 - lr: 9.0250e-04\n",
      "Epoch 46/150\n",
      "214/214 [==============================] - 103s 480ms/step - loss: 1.4690 - accuracy: 0.5049 - val_loss: 1.5094 - val_accuracy: 0.5002 - lr: 9.0250e-04\n",
      "Epoch 47/150\n"
     ]
    },
    {
     "name": "stdout",
     "output_type": "stream",
     "text": [
      "214/214 [==============================] - 103s 480ms/step - loss: 1.4767 - accuracy: 0.5126 - val_loss: 1.5040 - val_accuracy: 0.5095 - lr: 9.0250e-04\n",
      "Epoch 48/150\n",
      "214/214 [==============================] - 103s 479ms/step - loss: 1.4131 - accuracy: 0.5175 - val_loss: 1.4376 - val_accuracy: 0.5365 - lr: 9.0250e-04\n",
      "Epoch 49/150\n",
      "214/214 [==============================] - 102s 479ms/step - loss: 1.4631 - accuracy: 0.5093 - val_loss: 1.5049 - val_accuracy: 0.4861 - lr: 9.0250e-04\n",
      "Epoch 50/150\n",
      "214/214 [==============================] - 103s 479ms/step - loss: 1.3924 - accuracy: 0.5415 - val_loss: 1.4965 - val_accuracy: 0.4969 - lr: 9.0250e-04\n",
      "Epoch 51/150\n",
      "214/214 [==============================] - ETA: 0s - loss: 1.4199 - accuracy: 0.5224\n",
      "Epoch 00051: ReduceLROnPlateau reducing learning rate to 0.0008573750033974647.\n",
      "214/214 [==============================] - 102s 476ms/step - loss: 1.4199 - accuracy: 0.5224 - val_loss: 1.4842 - val_accuracy: 0.4749 - lr: 9.0250e-04\n",
      "Epoch 52/150\n",
      "214/214 [==============================] - 102s 477ms/step - loss: 1.4107 - accuracy: 0.5274 - val_loss: 1.4087 - val_accuracy: 0.5695 - lr: 8.5737e-04\n",
      "Epoch 53/150\n",
      "214/214 [==============================] - 102s 476ms/step - loss: 1.4551 - accuracy: 0.5186 - val_loss: 1.4254 - val_accuracy: 0.5574 - lr: 8.5737e-04\n",
      "Epoch 54/150\n",
      "214/214 [==============================] - 102s 476ms/step - loss: 1.3419 - accuracy: 0.5590 - val_loss: 1.3559 - val_accuracy: 0.5956 - lr: 8.5737e-04\n",
      "Epoch 55/150\n",
      "214/214 [==============================] - 102s 476ms/step - loss: 1.3844 - accuracy: 0.5373 - val_loss: 1.3834 - val_accuracy: 0.5761 - lr: 8.5737e-04\n",
      "Epoch 56/150\n",
      "214/214 [==============================] - 102s 476ms/step - loss: 1.3589 - accuracy: 0.5536 - val_loss: 1.3591 - val_accuracy: 0.5715 - lr: 8.5737e-04\n",
      "Epoch 57/150\n",
      "214/214 [==============================] - ETA: 0s - loss: 1.3460 - accuracy: 0.5523\n",
      "Epoch 00057: ReduceLROnPlateau reducing learning rate to 0.0008145062311086804.\n",
      "214/214 [==============================] - 102s 476ms/step - loss: 1.3460 - accuracy: 0.5523 - val_loss: 1.3900 - val_accuracy: 0.5482 - lr: 8.5737e-04\n",
      "Epoch 58/150\n",
      "214/214 [==============================] - 102s 476ms/step - loss: 1.3387 - accuracy: 0.5545 - val_loss: 1.3333 - val_accuracy: 0.6026 - lr: 8.1451e-04\n",
      "Epoch 59/150\n",
      "214/214 [==============================] - 102s 475ms/step - loss: 1.3341 - accuracy: 0.5698 - val_loss: 1.2915 - val_accuracy: 0.6247 - lr: 8.1451e-04\n",
      "Epoch 60/150\n",
      "214/214 [==============================] - 102s 475ms/step - loss: 1.2901 - accuracy: 0.5729 - val_loss: 1.3492 - val_accuracy: 0.5904 - lr: 8.1451e-04\n",
      "Epoch 61/150\n",
      "214/214 [==============================] - 102s 476ms/step - loss: 1.3224 - accuracy: 0.5772 - val_loss: 1.3526 - val_accuracy: 0.5939 - lr: 8.1451e-04\n",
      "Epoch 62/150\n",
      "214/214 [==============================] - ETA: 0s - loss: 1.3002 - accuracy: 0.5637\n",
      "Epoch 00062: ReduceLROnPlateau reducing learning rate to 0.0007737808919046074.\n",
      "214/214 [==============================] - 102s 476ms/step - loss: 1.3002 - accuracy: 0.5637 - val_loss: 1.4103 - val_accuracy: 0.5673 - lr: 8.1451e-04\n",
      "Epoch 63/150\n",
      "214/214 [==============================] - 102s 475ms/step - loss: 1.3206 - accuracy: 0.5682 - val_loss: 1.3513 - val_accuracy: 0.5875 - lr: 7.7378e-04\n",
      "Epoch 64/150\n",
      "214/214 [==============================] - 102s 476ms/step - loss: 1.2620 - accuracy: 0.5850 - val_loss: 1.4231 - val_accuracy: 0.5358 - lr: 7.7378e-04\n",
      "Epoch 65/150\n",
      "214/214 [==============================] - 102s 476ms/step - loss: 1.3239 - accuracy: 0.5688 - val_loss: 1.3069 - val_accuracy: 0.6055 - lr: 7.7378e-04\n",
      "Epoch 66/150\n",
      "214/214 [==============================] - ETA: 0s - loss: 1.3085 - accuracy: 0.5658\n",
      "Epoch 00066: ReduceLROnPlateau reducing learning rate to 0.000735091819660738.\n",
      "214/214 [==============================] - 102s 475ms/step - loss: 1.3085 - accuracy: 0.5658 - val_loss: 1.3509 - val_accuracy: 0.6005 - lr: 7.7378e-04\n",
      "Epoch 67/150\n",
      "214/214 [==============================] - 119s 556ms/step - loss: 1.2310 - accuracy: 0.6068 - val_loss: 1.3106 - val_accuracy: 0.6012 - lr: 7.3509e-04\n",
      "Epoch 68/150\n",
      "214/214 [==============================] - 123s 575ms/step - loss: 1.2141 - accuracy: 0.6105 - val_loss: 1.2726 - val_accuracy: 0.6138 - lr: 7.3509e-04\n",
      "Epoch 69/150\n",
      "214/214 [==============================] - 117s 548ms/step - loss: 1.2397 - accuracy: 0.6002 - val_loss: 1.3437 - val_accuracy: 0.5915 - lr: 7.3509e-04\n",
      "Epoch 70/150\n",
      "214/214 [==============================] - 111s 518ms/step - loss: 1.2808 - accuracy: 0.5885 - val_loss: 1.3428 - val_accuracy: 0.5778 - lr: 7.3509e-04\n",
      "Epoch 71/150\n",
      "214/214 [==============================] - ETA: 0s - loss: 1.3192 - accuracy: 0.5676\n",
      "Epoch 00071: ReduceLROnPlateau reducing learning rate to 0.0006983372120885178.\n",
      "214/214 [==============================] - 122s 572ms/step - loss: 1.3192 - accuracy: 0.5676 - val_loss: 1.3117 - val_accuracy: 0.5927 - lr: 7.3509e-04\n",
      "Epoch 72/150\n",
      "214/214 [==============================] - 123s 574ms/step - loss: 1.2494 - accuracy: 0.5940 - val_loss: 1.3192 - val_accuracy: 0.6109 - lr: 6.9834e-04\n",
      "Epoch 73/150\n",
      "214/214 [==============================] - 125s 583ms/step - loss: 1.2440 - accuracy: 0.5980 - val_loss: 1.3164 - val_accuracy: 0.6078 - lr: 6.9834e-04\n",
      "Epoch 74/150\n",
      "214/214 [==============================] - 123s 575ms/step - loss: 1.1948 - accuracy: 0.6070 - val_loss: 1.3689 - val_accuracy: 0.5525 - lr: 6.9834e-04\n",
      "Epoch 75/150\n",
      "214/214 [==============================] - ETA: 0s - loss: 1.1948 - accuracy: 0.6188\n",
      "Epoch 00075: ReduceLROnPlateau reducing learning rate to 0.0006634203542489559.\n",
      "214/214 [==============================] - 123s 573ms/step - loss: 1.1948 - accuracy: 0.6188 - val_loss: 1.3204 - val_accuracy: 0.5983 - lr: 6.9834e-04\n",
      "Epoch 76/150\n",
      "214/214 [==============================] - 123s 574ms/step - loss: 1.1963 - accuracy: 0.6174 - val_loss: 1.2608 - val_accuracy: 0.6050 - lr: 6.6342e-04\n",
      "Epoch 77/150\n",
      "214/214 [==============================] - 123s 574ms/step - loss: 1.2499 - accuracy: 0.5992 - val_loss: 1.2530 - val_accuracy: 0.6106 - lr: 6.6342e-04\n",
      "Epoch 78/150\n",
      "214/214 [==============================] - 123s 573ms/step - loss: 1.1532 - accuracy: 0.6361 - val_loss: 1.2882 - val_accuracy: 0.6228 - lr: 6.6342e-04\n",
      "Epoch 79/150\n",
      "214/214 [==============================] - 123s 575ms/step - loss: 1.1703 - accuracy: 0.6307 - val_loss: 1.2713 - val_accuracy: 0.6014 - lr: 6.6342e-04\n",
      "Epoch 80/150\n",
      "214/214 [==============================] - 123s 575ms/step - loss: 1.1864 - accuracy: 0.6154 - val_loss: 1.2286 - val_accuracy: 0.6082 - lr: 6.6342e-04\n",
      "Epoch 81/150\n",
      "214/214 [==============================] - 123s 573ms/step - loss: 1.1945 - accuracy: 0.6242 - val_loss: 1.2492 - val_accuracy: 0.6123 - lr: 6.6342e-04\n",
      "Epoch 82/150\n",
      "214/214 [==============================] - 124s 578ms/step - loss: 1.1836 - accuracy: 0.6215 - val_loss: 1.1540 - val_accuracy: 0.6523 - lr: 6.6342e-04\n",
      "Epoch 83/150\n",
      "214/214 [==============================] - 124s 578ms/step - loss: 1.1844 - accuracy: 0.6233 - val_loss: 1.2660 - val_accuracy: 0.6090 - lr: 6.6342e-04\n",
      "Epoch 84/150\n",
      "214/214 [==============================] - 124s 577ms/step - loss: 1.1631 - accuracy: 0.6327 - val_loss: 1.2787 - val_accuracy: 0.6078 - lr: 6.6342e-04\n",
      "Epoch 85/150\n",
      "214/214 [==============================] - ETA: 0s - loss: 1.1642 - accuracy: 0.6350\n",
      "Epoch 00085: ReduceLROnPlateau reducing learning rate to 0.0006302493420662358.\n",
      "214/214 [==============================] - 123s 574ms/step - loss: 1.1642 - accuracy: 0.6350 - val_loss: 1.2012 - val_accuracy: 0.6369 - lr: 6.6342e-04\n",
      "Epoch 86/150\n",
      "214/214 [==============================] - 123s 574ms/step - loss: 1.1527 - accuracy: 0.6351 - val_loss: 1.2096 - val_accuracy: 0.6264 - lr: 6.3025e-04\n",
      "Epoch 87/150\n",
      "214/214 [==============================] - 123s 574ms/step - loss: 1.0934 - accuracy: 0.6558 - val_loss: 1.2732 - val_accuracy: 0.6022 - lr: 6.3025e-04\n",
      "Epoch 88/150\n",
      "214/214 [==============================] - 123s 574ms/step - loss: 1.1135 - accuracy: 0.6422 - val_loss: 1.2548 - val_accuracy: 0.6211 - lr: 6.3025e-04\n",
      "Epoch 89/150\n",
      "214/214 [==============================] - ETA: 0s - loss: 1.1445 - accuracy: 0.6459\n",
      "Epoch 00089: ReduceLROnPlateau reducing learning rate to 0.0005987368611386045.\n",
      "214/214 [==============================] - 125s 583ms/step - loss: 1.1445 - accuracy: 0.6459 - val_loss: 1.2019 - val_accuracy: 0.6352 - lr: 6.3025e-04\n"
     ]
    },
    {
     "name": "stdout",
     "output_type": "stream",
     "text": [
      "Epoch 90/150\n",
      "214/214 [==============================] - 114s 531ms/step - loss: 1.1306 - accuracy: 0.6340 - val_loss: 1.2615 - val_accuracy: 0.6123 - lr: 5.9874e-04\n",
      "Epoch 91/150\n",
      "214/214 [==============================] - 105s 488ms/step - loss: 1.0501 - accuracy: 0.6714 - val_loss: 1.2006 - val_accuracy: 0.6557 - lr: 5.9874e-04\n",
      "Epoch 92/150\n",
      "214/214 [==============================] - 105s 490ms/step - loss: 1.1720 - accuracy: 0.6330 - val_loss: 1.2306 - val_accuracy: 0.6153 - lr: 5.9874e-04\n",
      "Epoch 93/150\n",
      "214/214 [==============================] - ETA: 0s - loss: 1.0875 - accuracy: 0.6547\n",
      "Epoch 00093: ReduceLROnPlateau reducing learning rate to 0.0005688000208465382.\n",
      "214/214 [==============================] - 104s 487ms/step - loss: 1.0875 - accuracy: 0.6547 - val_loss: 1.1801 - val_accuracy: 0.6415 - lr: 5.9874e-04\n",
      "Epoch 94/150\n",
      "214/214 [==============================] - 112s 525ms/step - loss: 1.0684 - accuracy: 0.6660 - val_loss: 1.1321 - val_accuracy: 0.6598 - lr: 5.6880e-04\n",
      "Epoch 95/150\n",
      "214/214 [==============================] - 123s 573ms/step - loss: 1.0428 - accuracy: 0.6724 - val_loss: 1.1344 - val_accuracy: 0.6712 - lr: 5.6880e-04\n",
      "Epoch 96/150\n",
      "214/214 [==============================] - 125s 584ms/step - loss: 1.0618 - accuracy: 0.6679 - val_loss: 1.1987 - val_accuracy: 0.6308 - lr: 5.6880e-04\n",
      "Epoch 97/150\n",
      "214/214 [==============================] - ETA: 0s - loss: 1.0688 - accuracy: 0.6666\n",
      "Epoch 00097: ReduceLROnPlateau reducing learning rate to 0.0005403600225690752.\n",
      "214/214 [==============================] - 114s 533ms/step - loss: 1.0688 - accuracy: 0.6666 - val_loss: 1.1788 - val_accuracy: 0.6484 - lr: 5.6880e-04\n",
      "Epoch 98/150\n",
      "214/214 [==============================] - 104s 487ms/step - loss: 1.0512 - accuracy: 0.6661 - val_loss: 1.1559 - val_accuracy: 0.6579 - lr: 5.4036e-04\n",
      "Epoch 99/150\n",
      "214/214 [==============================] - 123s 574ms/step - loss: 1.0515 - accuracy: 0.6722 - val_loss: 1.1739 - val_accuracy: 0.6503 - lr: 5.4036e-04\n",
      "Epoch 100/150\n",
      "214/214 [==============================] - 108s 504ms/step - loss: 1.0481 - accuracy: 0.6786 - val_loss: 1.1263 - val_accuracy: 0.6566 - lr: 5.4036e-04\n",
      "Epoch 101/150\n",
      "214/214 [==============================] - 103s 482ms/step - loss: 0.9906 - accuracy: 0.6860 - val_loss: 1.1508 - val_accuracy: 0.6493 - lr: 5.4036e-04\n",
      "Epoch 102/150\n",
      "214/214 [==============================] - 107s 499ms/step - loss: 1.0801 - accuracy: 0.6689 - val_loss: 1.2051 - val_accuracy: 0.6262 - lr: 5.4036e-04\n",
      "Epoch 103/150\n",
      "214/214 [==============================] - 123s 576ms/step - loss: 1.0142 - accuracy: 0.6809 - val_loss: 1.1107 - val_accuracy: 0.6637 - lr: 5.4036e-04\n",
      "Epoch 104/150\n",
      "214/214 [==============================] - 116s 540ms/step - loss: 1.0374 - accuracy: 0.6692 - val_loss: 1.4573 - val_accuracy: 0.5216 - lr: 5.4036e-04\n",
      "Epoch 105/150\n",
      "214/214 [==============================] - 116s 543ms/step - loss: 1.0354 - accuracy: 0.6704 - val_loss: 1.1320 - val_accuracy: 0.6546 - lr: 5.4036e-04\n",
      "Epoch 106/150\n",
      "214/214 [==============================] - ETA: 0s - loss: 1.0411 - accuracy: 0.6752\n",
      "Epoch 00106: ReduceLROnPlateau reducing learning rate to 0.0005133419937919825.\n",
      "214/214 [==============================] - 124s 578ms/step - loss: 1.0411 - accuracy: 0.6752 - val_loss: 1.1304 - val_accuracy: 0.6836 - lr: 5.4036e-04\n",
      "Epoch 107/150\n",
      "214/214 [==============================] - 110s 513ms/step - loss: 1.0147 - accuracy: 0.6855 - val_loss: 1.1533 - val_accuracy: 0.6700 - lr: 5.1334e-04\n",
      "Epoch 108/150\n",
      "214/214 [==============================] - 116s 542ms/step - loss: 1.0414 - accuracy: 0.6733 - val_loss: 1.1030 - val_accuracy: 0.6688 - lr: 5.1334e-04\n",
      "Epoch 109/150\n",
      "214/214 [==============================] - 126s 589ms/step - loss: 0.9960 - accuracy: 0.6914 - val_loss: 1.1202 - val_accuracy: 0.6653 - lr: 5.1334e-04\n",
      "Epoch 110/150\n",
      "214/214 [==============================] - 108s 504ms/step - loss: 0.9938 - accuracy: 0.6906 - val_loss: 1.1523 - val_accuracy: 0.6510 - lr: 5.1334e-04\n",
      "Epoch 111/150\n",
      "214/214 [==============================] - ETA: 0s - loss: 0.9983 - accuracy: 0.6896\n",
      "Epoch 00111: ReduceLROnPlateau reducing learning rate to 0.0004876748775132.\n",
      "214/214 [==============================] - 124s 581ms/step - loss: 0.9983 - accuracy: 0.6896 - val_loss: 1.1528 - val_accuracy: 0.6627 - lr: 5.1334e-04\n",
      "Epoch 112/150\n",
      "214/214 [==============================] - 121s 567ms/step - loss: 0.9146 - accuracy: 0.7178 - val_loss: 1.0987 - val_accuracy: 0.6680 - lr: 4.8767e-04\n",
      "Epoch 113/150\n",
      "214/214 [==============================] - 108s 502ms/step - loss: 0.9863 - accuracy: 0.6955 - val_loss: 1.0848 - val_accuracy: 0.6637 - lr: 4.8767e-04\n",
      "Epoch 114/150\n",
      "214/214 [==============================] - 108s 503ms/step - loss: 0.9866 - accuracy: 0.6983 - val_loss: 1.1314 - val_accuracy: 0.6647 - lr: 4.8767e-04\n",
      "Epoch 115/150\n",
      "214/214 [==============================] - 124s 581ms/step - loss: 0.9787 - accuracy: 0.6905 - val_loss: 1.1061 - val_accuracy: 0.6581 - lr: 4.8767e-04\n",
      "Epoch 116/150\n",
      "214/214 [==============================] - ETA: 0s - loss: 0.9632 - accuracy: 0.6986\n",
      "Epoch 00116: ReduceLROnPlateau reducing learning rate to 0.00046329112810781223.\n",
      "214/214 [==============================] - 127s 593ms/step - loss: 0.9632 - accuracy: 0.6986 - val_loss: 1.1223 - val_accuracy: 0.6644 - lr: 4.8767e-04\n",
      "Epoch 117/150\n",
      "214/214 [==============================] - 125s 585ms/step - loss: 0.9929 - accuracy: 0.6851 - val_loss: 1.0880 - val_accuracy: 0.6715 - lr: 4.6329e-04\n",
      "Epoch 118/150\n",
      "214/214 [==============================] - 126s 589ms/step - loss: 0.9442 - accuracy: 0.7034 - val_loss: 1.0679 - val_accuracy: 0.6753 - lr: 4.6329e-04\n",
      "Epoch 119/150\n",
      "214/214 [==============================] - 126s 587ms/step - loss: 0.9501 - accuracy: 0.7030 - val_loss: 1.2132 - val_accuracy: 0.6284 - lr: 4.6329e-04\n",
      "Epoch 120/150\n",
      "214/214 [==============================] - 108s 506ms/step - loss: 0.9336 - accuracy: 0.7126 - val_loss: 1.1075 - val_accuracy: 0.6629 - lr: 4.6329e-04\n",
      "Epoch 121/150\n",
      "214/214 [==============================] - ETA: 0s - loss: 0.9868 - accuracy: 0.6945\n",
      "Epoch 00121: ReduceLROnPlateau reducing learning rate to 0.00044012657308485355.\n",
      "214/214 [==============================] - 115s 540ms/step - loss: 0.9868 - accuracy: 0.6945 - val_loss: 1.1013 - val_accuracy: 0.6678 - lr: 4.6329e-04\n",
      "Epoch 122/150\n",
      "214/214 [==============================] - 122s 572ms/step - loss: 0.9465 - accuracy: 0.7079 - val_loss: 1.0576 - val_accuracy: 0.6834 - lr: 4.4013e-04\n",
      "Epoch 123/150\n",
      "214/214 [==============================] - 123s 576ms/step - loss: 0.9260 - accuracy: 0.7132 - val_loss: 1.1002 - val_accuracy: 0.6596 - lr: 4.4013e-04\n",
      "Epoch 124/150\n",
      "214/214 [==============================] - 123s 576ms/step - loss: 0.9368 - accuracy: 0.7023 - val_loss: 1.0261 - val_accuracy: 0.6936 - lr: 4.4013e-04\n",
      "Epoch 125/150\n",
      "214/214 [==============================] - 123s 574ms/step - loss: 0.9459 - accuracy: 0.7032 - val_loss: 1.0577 - val_accuracy: 0.6817 - lr: 4.4013e-04\n",
      "Epoch 126/150\n",
      "214/214 [==============================] - 122s 572ms/step - loss: 0.9239 - accuracy: 0.7086 - val_loss: 1.1379 - val_accuracy: 0.6620 - lr: 4.4013e-04\n",
      "Epoch 127/150\n",
      "214/214 [==============================] - ETA: 0s - loss: 0.9069 - accuracy: 0.7188\n",
      "Epoch 00127: ReduceLROnPlateau reducing learning rate to 0.00041812024719547477.\n",
      "214/214 [==============================] - 123s 575ms/step - loss: 0.9069 - accuracy: 0.7188 - val_loss: 1.0708 - val_accuracy: 0.6754 - lr: 4.4013e-04\n",
      "Epoch 128/150\n",
      "214/214 [==============================] - 123s 574ms/step - loss: 0.9200 - accuracy: 0.7081 - val_loss: 1.0370 - val_accuracy: 0.6848 - lr: 4.1812e-04\n",
      "Epoch 129/150\n",
      "214/214 [==============================] - 123s 575ms/step - loss: 0.8988 - accuracy: 0.7232 - val_loss: 1.1340 - val_accuracy: 0.6500 - lr: 4.1812e-04\n",
      "Epoch 130/150\n",
      "214/214 [==============================] - 123s 575ms/step - loss: 0.8614 - accuracy: 0.7316 - val_loss: 1.0740 - val_accuracy: 0.6743 - lr: 4.1812e-04\n",
      "Epoch 131/150\n",
      "214/214 [==============================] - ETA: 0s - loss: 0.9130 - accuracy: 0.7163\n",
      "Epoch 00131: ReduceLROnPlateau reducing learning rate to 0.00039721422654110934.\n",
      "214/214 [==============================] - 123s 577ms/step - loss: 0.9130 - accuracy: 0.7163 - val_loss: 1.0702 - val_accuracy: 0.6748 - lr: 4.1812e-04\n"
     ]
    },
    {
     "name": "stdout",
     "output_type": "stream",
     "text": [
      "Epoch 132/150\n",
      "214/214 [==============================] - 123s 575ms/step - loss: 0.9035 - accuracy: 0.7133 - val_loss: 1.0367 - val_accuracy: 0.6865 - lr: 3.9721e-04\n",
      "Epoch 133/150\n",
      "214/214 [==============================] - 123s 574ms/step - loss: 0.8941 - accuracy: 0.7304 - val_loss: 1.0448 - val_accuracy: 0.6839 - lr: 3.9721e-04\n",
      "Epoch 134/150\n",
      "214/214 [==============================] - 120s 561ms/step - loss: 0.8583 - accuracy: 0.7340 - val_loss: 1.0831 - val_accuracy: 0.6571 - lr: 3.9721e-04\n",
      "Epoch 135/150\n",
      "214/214 [==============================] - ETA: 0s - loss: 0.8869 - accuracy: 0.7288\n",
      "Epoch 00135: ReduceLROnPlateau reducing learning rate to 0.00037735351797891776.\n",
      "214/214 [==============================] - 103s 481ms/step - loss: 0.8869 - accuracy: 0.7288 - val_loss: 1.0807 - val_accuracy: 0.6827 - lr: 3.9721e-04\n",
      "Epoch 136/150\n",
      "214/214 [==============================] - 103s 479ms/step - loss: 0.8674 - accuracy: 0.7311 - val_loss: 1.0133 - val_accuracy: 0.6997 - lr: 3.7735e-04\n",
      "Epoch 137/150\n",
      "214/214 [==============================] - 103s 480ms/step - loss: 0.8159 - accuracy: 0.7523 - val_loss: 1.0370 - val_accuracy: 0.6797 - lr: 3.7735e-04\n",
      "Epoch 138/150\n",
      "214/214 [==============================] - 112s 522ms/step - loss: 0.8848 - accuracy: 0.7199 - val_loss: 1.1247 - val_accuracy: 0.6501 - lr: 3.7735e-04\n",
      "Epoch 139/150\n",
      "214/214 [==============================] - ETA: 0s - loss: 0.9111 - accuracy: 0.7144\n",
      "Epoch 00139: ReduceLROnPlateau reducing learning rate to 0.00035848583793267607.\n",
      "214/214 [==============================] - 125s 582ms/step - loss: 0.9111 - accuracy: 0.7144 - val_loss: 1.0747 - val_accuracy: 0.6702 - lr: 3.7735e-04\n",
      "Epoch 140/150\n",
      "214/214 [==============================] - 127s 592ms/step - loss: 0.8637 - accuracy: 0.7266 - val_loss: 1.0363 - val_accuracy: 0.6923 - lr: 3.5849e-04\n",
      "Epoch 141/150\n",
      "214/214 [==============================] - 125s 584ms/step - loss: 0.8707 - accuracy: 0.7269 - val_loss: 1.1591 - val_accuracy: 0.6416 - lr: 3.5849e-04\n",
      "Epoch 142/150\n",
      "214/214 [==============================] - 120s 561ms/step - loss: 0.8498 - accuracy: 0.7392 - val_loss: 1.0503 - val_accuracy: 0.6890 - lr: 3.5849e-04\n",
      "Epoch 143/150\n",
      "214/214 [==============================] - ETA: 0s - loss: 0.8591 - accuracy: 0.7322\n",
      "Epoch 00143: ReduceLROnPlateau reducing learning rate to 0.00034056155709549785.\n",
      "214/214 [==============================] - 108s 504ms/step - loss: 0.8591 - accuracy: 0.7322 - val_loss: 1.0853 - val_accuracy: 0.6712 - lr: 3.5849e-04\n",
      "Epoch 144/150\n",
      "214/214 [==============================] - 116s 540ms/step - loss: 0.8517 - accuracy: 0.7349 - val_loss: 1.0576 - val_accuracy: 0.6936 - lr: 3.4056e-04\n",
      "Epoch 145/150\n",
      "214/214 [==============================] - 122s 572ms/step - loss: 0.8227 - accuracy: 0.7458 - val_loss: 1.1380 - val_accuracy: 0.6551 - lr: 3.4056e-04\n",
      "Epoch 146/150\n",
      "214/214 [==============================] - 125s 585ms/step - loss: 0.8577 - accuracy: 0.7352 - val_loss: 1.0063 - val_accuracy: 0.6948 - lr: 3.4056e-04\n",
      "Epoch 147/150\n",
      "214/214 [==============================] - 125s 582ms/step - loss: 0.8838 - accuracy: 0.7272 - val_loss: 1.0108 - val_accuracy: 0.6975 - lr: 3.4056e-04\n",
      "Epoch 148/150\n",
      "214/214 [==============================] - 125s 583ms/step - loss: 0.8504 - accuracy: 0.7392 - val_loss: 1.0632 - val_accuracy: 0.6637 - lr: 3.4056e-04\n",
      "Epoch 149/150\n",
      "214/214 [==============================] - ETA: 0s - loss: 0.8374 - accuracy: 0.7403\n",
      "Epoch 00149: ReduceLROnPlateau reducing learning rate to 0.00032353347924072293.\n",
      "214/214 [==============================] - 118s 550ms/step - loss: 0.8374 - accuracy: 0.7403 - val_loss: 1.1134 - val_accuracy: 0.6613 - lr: 3.4056e-04\n",
      "Epoch 150/150\n",
      "214/214 [==============================] - 107s 500ms/step - loss: 0.8066 - accuracy: 0.7513 - val_loss: 0.9825 - val_accuracy: 0.7053 - lr: 3.2353e-04\n"
     ]
    }
   ],
   "source": [
    "hist = model.fit_generator(\n",
    "    train_generator,\n",
    "    steps_per_epoch=steps_per_epoch,\n",
    "    validation_data=validation_generator,\n",
    "    validation_steps=val_steps,\n",
    "    epochs=150,\n",
    "    verbose=1,\n",
    "    callbacks=[reduceLROnPlat])"
   ]
  },
  {
   "cell_type": "code",
   "execution_count": 18,
   "metadata": {},
   "outputs": [
    {
     "name": "stdout",
     "output_type": "stream",
     "text": [
      "val_loss = 0.983 and val_acc = 0.703\n"
     ]
    }
   ],
   "source": [
    "score = model.evaluate(X_test, y_test, verbose=0)\n",
    "print(\"val_loss = {:.3f} and val_acc = {:.3f}\".format(score[0], score[1]))"
   ]
  },
  {
   "cell_type": "code",
   "execution_count": 19,
   "metadata": {},
   "outputs": [
    {
     "data": {
      "image/png": "[encoded data removed]",
      "text/plain": [
       "<Figure size 1080x504 with 2 Axes>"
      ]
     },
     "metadata": {
      "needs_background": "light"
     },
     "output_type": "display_data"
    }
   ],
   "source": [
    "plt.figure(figsize=(15,7))\n",
    "\n",
    "plt.subplot(1,2,1)\n",
    "plt.plot(hist.history['accuracy'], label='train')\n",
    "plt.plot(hist.history['val_accuracy'], label='validation')\n",
    "plt.title('Accuracy')\n",
    "plt.xlabel('Epochs')\n",
    "plt.ylabel('Accuracy')\n",
    "plt.legend()\n",
    "\n",
    "plt.subplot(1,2,2)\n",
    "plt.plot(hist.history['loss'], label='train')\n",
    "plt.plot(hist.history['val_loss'], label='validation')\n",
    "plt.title('Loss')\n",
    "plt.xlabel('Epochs')\n",
    "plt.ylabel('Loss')\n",
    "plt.legend()\n",
    "\n",
    "plt.tight_layout()\n",
    "plt.show()"
   ]
  },
  {
   "cell_type": "code",
   "execution_count": 20,
   "metadata": {},
   "outputs": [],
   "source": [
    "#http://scikit-learn.org/stable/auto_examples/model_selection/plot_confusion_matrix.html\n",
    "def plot_confusion_matrix(cm, classes,\n",
    "                          normalize=False,\n",
    "                          title='Confusion matrix',\n",
    "                          cmap=plt.cm.Blues):\n",
    "    \"\"\"\n",
    "    This function prints and plots the confusion matrix.\n",
    "    Normalization can be applied by setting `normalize=True`.\n",
    "    \"\"\"\n",
    "    if normalize:\n",
    "        cm = cm.astype('float') / cm.sum(axis=1)[:, np.newaxis]\n",
    "        print(\"Normalized confusion matrix\")\n",
    "    else:\n",
    "        print('Confusion matrix, without normalization')\n",
    "\n",
    "    plt.imshow(cm, interpolation='nearest', cmap=cmap)\n",
    "    plt.title(title)\n",
    "    plt.colorbar()\n",
    "    tick_marks = np.arange(len(classes))\n",
    "    plt.xticks(tick_marks, classes, rotation=45)\n",
    "    plt.yticks(tick_marks, classes)\n",
    "\n",
    "    fmt = '.2f' if normalize else 'd'\n",
    "    thresh = cm.max() / 2.\n",
    "    for i, j in itertools.product(range(cm.shape[0]), range(cm.shape[1])):\n",
    "        plt.text(j, i, format(cm[i, j], fmt),\n",
    "                 horizontalalignment=\"center\",\n",
    "                 color=\"white\" if cm[i, j] > thresh else \"black\")\n",
    "\n",
    "    plt.tight_layout()\n",
    "    plt.ylabel('True label')\n",
    "    plt.xlabel('Predicted label')"
   ]
  },
  {
   "cell_type": "code",
   "execution_count": 21,
   "metadata": {},
   "outputs": [],
   "source": [
    "preds = np.argmax(model.predict(X_test), axis = 1)\n",
    "y_orig = np.argmax(y_test, axis = 1)\n",
    "cm = confusion_matrix(preds, y_orig)"
   ]
  },
  {
   "cell_type": "code",
   "execution_count": 22,
   "metadata": {},
   "outputs": [
    {
     "name": "stdout",
     "output_type": "stream",
     "text": [
      "Normalized confusion matrix\n"
     ]
    },
    {
     "data": {
      "image/png": "[encoded data removed]",
      "text/plain": [
       "<Figure size 720x720 with 2 Axes>"
      ]
     },
     "metadata": {
      "needs_background": "light"
     },
     "output_type": "display_data"
    }
   ],
   "source": [
    "keys = OrderedDict(sorted(genres.items(), key=lambda t: t[1])).keys()\n",
    "\n",
    "plt.figure(figsize=(10,10))\n",
    "plot_confusion_matrix(cm, keys, normalize=True)"
   ]
  },
  {
   "cell_type": "markdown",
   "metadata": {},
   "source": [
    "## Majority Vote"
   ]
  },
  {
   "cell_type": "code",
   "execution_count": 23,
   "metadata": {},
   "outputs": [],
   "source": [
    "def majority_vote(scores):\n",
    "    values, counts = np.unique(scores,return_counts=True)\n",
    "    ind = np.argmax(counts)\n",
    "    return values[ind]"
   ]
  },
  {
   "cell_type": "code",
   "execution_count": 24,
   "metadata": {},
   "outputs": [],
   "source": [
    "preds = model.predict(X_test, batch_size=128, verbose=0)\n"
   ]
  },
  {
   "cell_type": "code",
   "execution_count": 25,
   "metadata": {},
   "outputs": [],
   "source": [
    "# Each sound was divided into 39 segments in our custom function\n",
    "scores_songs = np.split(np.argmax(preds, axis=1), 300)\n",
    "scores_songs = [majority_vote(scores) for scores in scores_songs]\n"
   ]
  },
  {
   "cell_type": "code",
   "execution_count": 26,
   "metadata": {},
   "outputs": [],
   "source": [
    "# Same analysis for split\n",
    "label = np.split(np.argmax(y_test, axis=1), 300)\n",
    "label = [majority_vote(l) for l in label]\n"
   ]
  },
  {
   "cell_type": "code",
   "execution_count": 27,
   "metadata": {},
   "outputs": [
    {
     "name": "stdout",
     "output_type": "stream",
     "text": [
      "majority voting system (acc) = 0.807\n"
     ]
    }
   ],
   "source": [
    "from sklearn.metrics import accuracy_score\n",
    "\n",
    "print(\"majority voting system (acc) = {:.3f}\".format(accuracy_score(label, scores_songs)))"
   ]
  }
 ],
 "metadata": {
  "kernelspec": {
   "display_name": "Python 3",
   "language": "python",
   "name": "python3"
  },
  "language_info": {
   "codemirror_mode": {
    "name": "ipython",
    "version": 3
   },
   "file_extension": ".py",
   "mimetype": "text/x-python",
   "name": "python",
   "nbconvert_exporter": "python",
   "pygments_lexer": "ipython3",
   "version": "3.8.2"
  }
 },
 "nbformat": 4,
 "nbformat_minor": 2
}
